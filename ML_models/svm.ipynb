{
  "nbformat": 4,
  "nbformat_minor": 0,
  "metadata": {
    "colab": {
      "name": "svm.ipynb",
      "provenance": []
    },
    "kernelspec": {
      "name": "python3",
      "display_name": "Python 3"
    },
    "language_info": {
      "name": "python"
    }
  },
  "cells": [
    {
      "cell_type": "markdown",
      "source": [
        "## Import library"
      ],
      "metadata": {
        "id": "i4gyVkBTsQ8_"
      }
    },
    {
      "cell_type": "code",
      "execution_count": null,
      "metadata": {
        "id": "OqXIXjv0dMH1"
      },
      "outputs": [],
      "source": [
        "import pandas as pd\n",
        "import numpy as np\n",
        "import matplotlib.pyplot as plt\n",
        "from sklearn.model_selection import train_test_split\n",
        "from sklearn.model_selection import GridSearchCV\n",
        "from sklearn.metrics import classification_report, confusion_matrix, ConfusionMatrixDisplay, accuracy_score\n",
        "\n",
        "from sklearn.svm import SVC\n",
        "\n",
        "workspace = '/content/drive/MyDrive/Multimedia Term Project/dataset/'"
      ]
    },
    {
      "cell_type": "code",
      "source": [
        "from google.colab import drive\n",
        "drive.mount('/content/drive')"
      ],
      "metadata": {
        "id": "_difDr__sQdc",
        "colab": {
          "base_uri": "https://localhost:8080/"
        },
        "outputId": "0a3c7dbe-3137-48b5-bfed-9228eece04bd"
      },
      "execution_count": null,
      "outputs": [
        {
          "output_type": "stream",
          "name": "stdout",
          "text": [
            "Mounted at /content/drive\n"
          ]
        }
      ]
    },
    {
      "cell_type": "markdown",
      "source": [
        "## Read our data"
      ],
      "metadata": {
        "id": "o1W4ZRpBpVjf"
      }
    },
    {
      "cell_type": "code",
      "source": [
        "# our_df = pd.read_csv(workspace+'integrated.csv')\n",
        "# our_df = pd.read_csv(workspace+'rescaled_integrated.csv')\n",
        "# our_df = pd.read_csv(workspace+'rescaled_all_frames/all_frames_0.csv')\n",
        "our_df = pd.read_csv(\"/content/drive/MyDrive/Multimedia Term Project/dataset/rescaled_all_frames/all_training_dataset.csv\")\n",
        "\n",
        "\n",
        "\n",
        "X = our_df[['EDA', 'BVP', 'HR', 'TEMP']]\n",
        "Y = our_df[['event']]\n",
        "X_train, X_test, Y_train, Y_test = train_test_split(X, Y, test_size=0.4, shuffle=True)"
      ],
      "metadata": {
        "id": "g729iPmY-lcw"
      },
      "execution_count": null,
      "outputs": []
    },
    {
      "cell_type": "code",
      "source": [
        "our_df['event'].value_counts()"
      ],
      "metadata": {
        "colab": {
          "base_uri": "https://localhost:8080/"
        },
        "id": "U1dq7HGCgBT5",
        "outputId": "a42575a9-ac46-441f-919e-8059c56a00e1"
      },
      "execution_count": null,
      "outputs": [
        {
          "output_type": "execute_result",
          "data": {
            "text/plain": [
              "5    124292\n",
              "4       100\n",
              "0        28\n",
              "1        26\n",
              "2         9\n",
              "3         5\n",
              "Name: event, dtype: int64"
            ]
          },
          "metadata": {},
          "execution_count": 12
        }
      ]
    },
    {
      "cell_type": "markdown",
      "source": [
        "## Grid search for best hyperparameters"
      ],
      "metadata": {
        "id": "ZWvENWk8pY35"
      }
    },
    {
      "cell_type": "code",
      "source": [
        "# defining parameter range\n",
        "param_grid = {'C': [1],              \n",
        "              'kernel': ['rbf', 'poly', 'linear']}\n",
        " \n",
        "grid = GridSearchCV(SVC(), param_grid, refit = True, verbose = 3)\n",
        "grid.fit(X_train[['EDA', 'BVP', 'HR']].values, Y_train['event'].values) "
      ],
      "metadata": {
        "id": "tYw5x_ev_b38",
        "colab": {
          "base_uri": "https://localhost:8080/"
        },
        "outputId": "dfe12f2c-87af-4c08-8873-abccfa5b89d3"
      },
      "execution_count": null,
      "outputs": [
        {
          "output_type": "stream",
          "name": "stdout",
          "text": [
            "Fitting 5 folds for each of 3 candidates, totalling 15 fits\n",
            "[CV 1/5] END ...................C=1, kernel=rbf;, score=0.529 total time=   0.1s\n",
            "[CV 2/5] END ...................C=1, kernel=rbf;, score=0.532 total time=   0.1s\n",
            "[CV 3/5] END ...................C=1, kernel=rbf;, score=0.532 total time=   0.1s\n",
            "[CV 4/5] END ...................C=1, kernel=rbf;, score=0.532 total time=   0.1s\n",
            "[CV 5/5] END ...................C=1, kernel=rbf;, score=0.532 total time=   0.1s\n",
            "[CV 1/5] END ..................C=1, kernel=poly;, score=0.529 total time=   0.1s\n",
            "[CV 2/5] END ..................C=1, kernel=poly;, score=0.532 total time=   0.1s\n",
            "[CV 3/5] END ..................C=1, kernel=poly;, score=0.532 total time=   0.1s\n",
            "[CV 4/5] END ..................C=1, kernel=poly;, score=0.532 total time=   0.1s\n",
            "[CV 5/5] END ..................C=1, kernel=poly;, score=0.532 total time=   0.1s\n",
            "[CV 1/5] END ................C=1, kernel=linear;, score=0.529 total time=   0.0s\n",
            "[CV 2/5] END ................C=1, kernel=linear;, score=0.532 total time=   0.0s\n",
            "[CV 3/5] END ................C=1, kernel=linear;, score=0.532 total time=   0.0s\n",
            "[CV 4/5] END ................C=1, kernel=linear;, score=0.532 total time=   0.0s\n",
            "[CV 5/5] END ................C=1, kernel=linear;, score=0.532 total time=   0.0s\n"
          ]
        },
        {
          "output_type": "execute_result",
          "data": {
            "text/plain": [
              "GridSearchCV(estimator=SVC(),\n",
              "             param_grid={'C': [1], 'kernel': ['rbf', 'poly', 'linear']},\n",
              "             verbose=3)"
            ]
          },
          "metadata": {},
          "execution_count": 4
        }
      ]
    },
    {
      "cell_type": "code",
      "source": [
        "# print best parameter after tuning\n",
        "print(grid.best_params_)\n",
        " \n",
        "# print how our model looks after hyper-parameter tuning\n",
        "print(grid.best_estimator_)"
      ],
      "metadata": {
        "colab": {
          "base_uri": "https://localhost:8080/"
        },
        "id": "qdDhdFi-fa8c",
        "outputId": "537d0c3d-4349-400e-c28b-6f49560c0548"
      },
      "execution_count": null,
      "outputs": [
        {
          "output_type": "stream",
          "name": "stdout",
          "text": [
            "{'C': 1, 'kernel': 'rbf'}\n",
            "SVC(C=1)\n"
          ]
        }
      ]
    },
    {
      "cell_type": "markdown",
      "source": [
        "## Predictions"
      ],
      "metadata": {
        "id": "U3zPAA1OpyuN"
      }
    },
    {
      "cell_type": "code",
      "source": [
        "grid = SVC(C=1, kernel='rbf')\n",
        "grid.fit(X_train[['EDA', 'BVP', 'HR', 'TEMP']].values, Y_train['event'].values) "
      ],
      "metadata": {
        "colab": {
          "base_uri": "https://localhost:8080/"
        },
        "id": "F0zzdwN5ec9N",
        "outputId": "2a86b0d5-f958-414e-ccf2-7375d872aca8"
      },
      "execution_count": null,
      "outputs": [
        {
          "output_type": "execute_result",
          "data": {
            "text/plain": [
              "SVC(C=1)"
            ]
          },
          "metadata": {},
          "execution_count": 6
        }
      ]
    },
    {
      "cell_type": "code",
      "source": [
        "grid_predictions = grid.predict(X_test[['EDA', 'BVP', 'HR', 'TEMP']].values)\n",
        " \n",
        "# print classification report\n",
        "print(classification_report(Y_test, grid_predictions))"
      ],
      "metadata": {
        "colab": {
          "base_uri": "https://localhost:8080/"
        },
        "id": "HTYaM18De25G",
        "outputId": "8ca47693-5f7a-485b-d6f9-62095bf7f595"
      },
      "execution_count": null,
      "outputs": [
        {
          "output_type": "stream",
          "name": "stderr",
          "text": [
            "/usr/local/lib/python3.7/dist-packages/sklearn/metrics/_classification.py:1318: UndefinedMetricWarning: Precision and F-score are ill-defined and being set to 0.0 in labels with no predicted samples. Use `zero_division` parameter to control this behavior.\n",
            "  _warn_prf(average, modifier, msg_start, len(result))\n"
          ]
        },
        {
          "output_type": "stream",
          "name": "stdout",
          "text": [
            "              precision    recall  f1-score   support\n",
            "\n",
            "           0       0.00      0.00      0.00        44\n",
            "           1       0.00      0.00      0.00        36\n",
            "           2       0.00      0.00      0.00        47\n",
            "           3       0.00      0.00      0.00        38\n",
            "           4       0.00      0.00      0.00       252\n",
            "           5       1.00      1.00      1.00    350215\n",
            "\n",
            "    accuracy                           1.00    350632\n",
            "   macro avg       0.17      0.17      0.17    350632\n",
            "weighted avg       1.00      1.00      1.00    350632\n",
            "\n"
          ]
        },
        {
          "output_type": "stream",
          "name": "stderr",
          "text": [
            "/usr/local/lib/python3.7/dist-packages/sklearn/metrics/_classification.py:1318: UndefinedMetricWarning: Precision and F-score are ill-defined and being set to 0.0 in labels with no predicted samples. Use `zero_division` parameter to control this behavior.\n",
            "  _warn_prf(average, modifier, msg_start, len(result))\n",
            "/usr/local/lib/python3.7/dist-packages/sklearn/metrics/_classification.py:1318: UndefinedMetricWarning: Precision and F-score are ill-defined and being set to 0.0 in labels with no predicted samples. Use `zero_division` parameter to control this behavior.\n",
            "  _warn_prf(average, modifier, msg_start, len(result))\n"
          ]
        }
      ]
    },
    {
      "cell_type": "code",
      "source": [
        "accuracy = accuracy_score(Y_test, grid_predictions)\n",
        "print(grid_predictions[1:100])\n",
        "print(accuracy)"
      ],
      "metadata": {
        "colab": {
          "base_uri": "https://localhost:8080/"
        },
        "id": "iMyarBIogVaP",
        "outputId": "2b006546-89c1-4227-a0df-e277677b7bff"
      },
      "execution_count": null,
      "outputs": [
        {
          "output_type": "stream",
          "name": "stdout",
          "text": [
            "[5 5 5 5 5 5 5 5 5 5 5 5 5 5 5 5 5 5 5 5 5 5 5 5 5 5 5 5 5 5 5 5 5 5 5 5 5\n",
            " 5 5 5 5 5 5 5 5 5 5 5 5 5 5 5 5 5 5 5 5 5 5 5 5 5 5 5 5 5 5 5 5 5 5 5 5 5\n",
            " 5 5 5 5 5 5 5 5 5 5 5 5 5 5 5 5 5 5 5 5 5 5 5 5 5]\n",
            "0.9986140125341475\n"
          ]
        }
      ]
    },
    {
      "cell_type": "code",
      "source": [
        "cmx = confusion_matrix(Y_test, grid_predictions)\n",
        "disp = ConfusionMatrixDisplay(cmx)\n",
        "disp.plot()\n",
        "plt.show()"
      ],
      "metadata": {
        "colab": {
          "base_uri": "https://localhost:8080/",
          "height": 279
        },
        "id": "P6kLwb-jo98d",
        "outputId": "f558ea0f-3679-473f-b1b1-1f7c7b1fa35e"
      },
      "execution_count": null,
      "outputs": [
        {
          "output_type": "display_data",
          "data": {
            "text/plain": [
              "<Figure size 432x288 with 2 Axes>"
            ],
            "image/png": "[encoded data removed]"
          },
          "metadata": {
            "needs_background": "light"
          }
        }
      ]
    }
  ]
}