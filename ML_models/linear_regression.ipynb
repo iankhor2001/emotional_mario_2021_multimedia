{
  "cells": [
    {
      "cell_type": "markdown",
      "metadata": {
        "id": "G25gpegwZtrX"
      },
      "source": [
        "## Import library"
      ]
    },
    {
      "cell_type": "code",
      "execution_count": null,
      "metadata": {
        "id": "9qlR0GXxZZht"
      },
      "outputs": [],
      "source": [
        "import pandas as pd\n",
        "import numpy as np\n",
        "import matplotlib.pyplot as plt\n",
        "from sklearn.model_selection import train_test_split\n",
        "from sklearn.linear_model import LinearRegression\n",
        "from sklearn.preprocessing import PolynomialFeatures\n",
        "from sklearn.pipeline import make_pipeline\n",
        "from sklearn.model_selection import GridSearchCV\n",
        "from sklearn.metrics import classification_report, confusion_matrix, accuracy_score\n",
        "\n",
        "from sklearn.svm import SVC\n",
        "\n",
        "# Change the path where your file put\n",
        "# 可以先把共用資料夾建立捷徑到自己的google drive上\n",
        "workspace = '/content/drive/MyDrive/Multimedia Term Project/dataset/'"
      ]
    },
    {
      "cell_type": "code",
      "execution_count": null,
      "metadata": {
        "colab": {
          "base_uri": "https://localhost:8080/"
        },
        "id": "10u605kzZhAr",
        "outputId": "e14f6a43-fa01-4383-d713-b5b48a5d5dc9"
      },
      "outputs": [
        {
          "name": "stdout",
          "output_type": "stream",
          "text": [
            "Mounted at /content/drive\n"
          ]
        }
      ],
      "source": [
        "# Below let you read file in google drive. After run this, pop up window will show to ask for permission\n",
        "from google.colab import drive\n",
        "drive.mount('/content/drive')"
      ]
    },
    {
      "cell_type": "markdown",
      "metadata": {
        "id": "NEsqFzQPaZ55"
      },
      "source": [
        "## Read our data"
      ]
    },
    {
      "cell_type": "code",
      "execution_count": null,
      "metadata": {
        "id": "FEuN1D7TZivH"
      },
      "outputs": [],
      "source": [
        "# read file\n",
        "our_df = pd.read_csv(workspace+'integrated_rescaled_all.csv')\n",
        "\n",
        "#read and split x, y\n",
        "#X = our_df[['EDA', 'BVP', 'HR', 'TEMP']]  #use this line if you read integrated_rescaled_all.csv\n",
        "#X = our_df[['EDA', 'BVP', 'HR']] #use this line if you read integrated_rescaled.csv\n",
        "#Y = our_df[['event']]\n",
        "EDA  = our_df.iloc[:, 3].values\n",
        "BVP  = our_df.iloc[:, 4].values\n",
        "TEMP = our_df.iloc[:, 5].values\n",
        "HR   = our_df.iloc[:, 6].values\n",
        "EVENT= our_df.iloc[:, 1].values\n",
        "\n",
        "## 組合成DataFrame格式\n",
        "data_dict = {'EDA': EDA, 'BVP': BVP, 'TEMP': TEMP, 'HR': HR, 'EVENT': EVENT}\n",
        "df = pd.DataFrame(data_dict)\n",
        "X = df[['EDA','BVP','TEMP','HR']]\n",
        "Y = df[['EVENT']]\n",
        "\n",
        "# X_train, X_test, Y_train, Y_test = train_test_split(X, Y, test_size=0.1, shuffle=True)"
      ]
    },
    {
      "cell_type": "code",
      "execution_count": null,
      "metadata": {
        "colab": {
          "base_uri": "https://localhost:8080/"
        },
        "id": "WdT80qM_e9Ex",
        "outputId": "fa53a320-ebf1-475c-ba17-d9a948205b0f"
      },
      "outputs": [
        {
          "name": "stdout",
          "output_type": "stream",
          "text": [
            "[0.         0.03824475 0.06564445 ... 0.39220653 0.00059463 0.03835319]\n"
          ]
        }
      ],
      "source": [
        "print(EDA)\n",
        "# print(Y_train)"
      ]
    },
    {
      "cell_type": "markdown",
      "metadata": {
        "id": "JETDAThSahnr"
      },
      "source": [
        "## Linear Regression Model"
      ]
    },
    {
      "cell_type": "code",
      "execution_count": null,
      "metadata": {
        "colab": {
          "base_uri": "https://localhost:8080/"
        },
        "id": "Gv6KCYYcZmBd",
        "outputId": "97f4fb27-93e3-4d69-d4d9-8f40ee698ecb"
      },
      "outputs": [
        {
          "data": {
            "text/plain": [
              "LinearRegression()"
            ]
          },
          "execution_count": 5,
          "metadata": {},
          "output_type": "execute_result"
        }
      ],
      "source": [
        "regressor = LinearRegression()\n",
        "regressor.fit(X, Y)"
      ]
    },
    {
      "cell_type": "code",
      "execution_count": null,
      "metadata": {
        "colab": {
          "base_uri": "https://localhost:8080/"
        },
        "id": "strhHGkHZnyo",
        "outputId": "b35c2507-1ffc-46f7-851e-e3aa407c0e68"
      },
      "outputs": [
        {
          "name": "stdout",
          "output_type": "stream",
          "text": [
            "Intercept :  [3.08139054]\n",
            "Coefficient :  [[-0.13003095  0.03154937  0.15570373  0.10815598]]\n"
          ]
        }
      ],
      "source": [
        "w_0 = regressor.intercept_\n",
        "w_1 = regressor.coef_\n",
        "\n",
        "print('Intercept : ', w_0)\n",
        "print('Coefficient : ', w_1)"
      ]
    },
    {
      "cell_type": "code",
      "execution_count": null,
      "metadata": {
        "colab": {
          "base_uri": "https://localhost:8080/"
        },
        "id": "Cy60VYFCZo4T",
        "outputId": "06862001-bc11-49d3-c443-7dee1ff15e17"
      },
      "outputs": [
        {
          "name": "stdout",
          "output_type": "stream",
          "text": [
            "Score :  0.002247108818875465\n",
            "Accuracy : 0.2247108818875465%\n"
          ]
        }
      ],
      "source": [
        "score = regressor.score(X, Y)\n",
        "print('Score : ', score)\n",
        "print('Accuracy : ' + str(score * 100) + '%')"
      ]
    },
    {
      "cell_type": "code",
      "execution_count": null,
      "metadata": {
        "colab": {
          "base_uri": "https://localhost:8080/",
          "height": 711
        },
        "id": "8-5b_SPxZrK1",
        "outputId": "45555cd6-6086-4717-bd9b-4386331401a9"
      },
      "outputs": [],
      "source": [
        "# see the accuracy of your prediction\n",
        "y_predict = regressor.predict(X)\n",
        "print('Predict : ', y_predict)\n",
        "print('Test : ', Y)\n",
        "Y"
      ]
    }
  ],
  "metadata": {
    "colab": {
      "collapsed_sections": [],
      "name": "lin_reg.ipynb",
      "provenance": []
    },
    "kernelspec": {
      "display_name": "Python 3",
      "name": "python3"
    },
    "language_info": {
      "name": "python"
    }
  },
  "nbformat": 4,
  "nbformat_minor": 0
}
