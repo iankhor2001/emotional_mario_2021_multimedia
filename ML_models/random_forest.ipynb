{
  "cells": [
    {
      "cell_type": "markdown",
      "metadata": {
        "id": "i4gyVkBTsQ8_"
      },
      "source": [
        "## Import library"
      ]
    },
    {
      "cell_type": "code",
      "execution_count": null,
      "metadata": {
        "id": "OqXIXjv0dMH1"
      },
      "outputs": [],
      "source": [
        "import pandas as pd\n",
        "import numpy as np\n",
        "import matplotlib.pyplot as plt\n",
        "from sklearn.model_selection import train_test_split\n",
        "from sklearn.ensemble import RandomForestClassifier\n",
        "from sklearn.metrics import classification_report, accuracy_score, f1_score, confusion_matrix, ConfusionMatrixDisplay \n",
        "from sklearn.model_selection import GridSearchCV, RandomizedSearchCV\n",
        "import pickle\n",
        "import tensorflow.keras as keras\n",
        "from sklearn.preprocessing import OneHotEncoder\n",
        "\n",
        "workspace = '/content/drive/MyDrive/Multimedia Term Project/dataset/'"
      ]
    },
    {
      "cell_type": "code",
      "execution_count": null,
      "metadata": {
        "colab": {
          "base_uri": "https://localhost:8080/"
        },
        "id": "_difDr__sQdc",
        "outputId": "f9e2997f-d9c9-48a9-cfe9-139604fa3a2c"
      },
      "outputs": [
        {
          "name": "stdout",
          "output_type": "stream",
          "text": [
            "Mounted at /content/drive\n"
          ]
        }
      ],
      "source": [
        "from google.colab import drive\n",
        "drive.mount('/content/drive')"
      ]
    },
    {
      "cell_type": "markdown",
      "metadata": {
        "id": "o1W4ZRpBpVjf"
      },
      "source": [
        "## Read our data"
      ]
    },
    {
      "cell_type": "code",
      "execution_count": null,
      "metadata": {
        "id": "g729iPmY-lcw"
      },
      "outputs": [],
      "source": [
        "# our_df = pd.read_csv(workspace+'integrated.csv')\n",
        "# our_df = pd.read_csv(workspace+'standard_integrated.csv')\n",
        "# our_df = pd.read_csv(workspace+'integrated_rescaled_all.csv')\n",
        "# our_df = pd.read_csv(workspace+'rescaled_all_frames/all_training_dataset.csv')\n",
        "# our_df = pd.read_csv(workspace+'standard_all_frames/all_standard_training_dataset.csv')\n",
        "# our_df = pd.read_csv(workspace+'standard_all_frames/all_frames_standard_0.csv')\n",
        "our_df = pd.read_csv(\"/content/drive/MyDrive/Multimedia Term Project/dataset/rescaled_all_frames/all_training_dataset.csv\")\n",
        "\n",
        "Y_test = our_df[['event']]\n",
        "X_test = our_df[['EDA', 'BVP', 'HR', 'frame_num']]\n",
        "\n",
        "# # original random split\n",
        "X = our_df[['EDA', 'BVP', 'HR', 'TEMP']]\n",
        "# X = our_df[['EDA', 'BVP', 'HR']]\n",
        "Y = our_df[['event']]\n",
        "X_train, X_test, Y_train, Y_test = train_test_split(X, Y, test_size=0.4, shuffle=True, random_state=22)\n",
        "\n",
        "# participant 1, 5 as test data\n",
        "# train = our_df[~our_df['participant'].isin([0])]\n",
        "# test = our_df[our_df['participant'].isin([0])]\n",
        "# X_train = train[['EDA', 'BVP', 'HR', 'frame_num']]\n",
        "# X_test = test[['EDA', 'BVP', 'HR', 'frame_num']]\n",
        "# Y_train = train[['event']]\n",
        "# Y_test = test[['event']]\n",
        "\n",
        "## merged try\n",
        "# normal_df = our_df[our_df['event']!=4]\n",
        "# sampled_df = pd.DataFrame(our_df[our_df['event']==4]).sample(n=120, random_state=22)\n",
        "# merged = pd.concat([normal_df, sampled_df])\n",
        "# X = merged[['EDA', 'BVP', 'HR', 'TEMP']]\n",
        "# Y = merged[['event']]\n",
        "# X_train, X_test, Y_train, Y_test = train_test_split(X, Y, test_size=0.2, shuffle=True, random_state=22)"
      ]
    },
    {
      "cell_type": "code",
      "execution_count": null,
      "metadata": {
        "colab": {
          "base_uri": "https://localhost:8080/",
          "height": 424
        },
        "id": "abukXju6OLGE",
        "outputId": "93a9d2d6-ea4d-4595-8abe-6bd1c783898e"
      },
      "outputs": [
        {
          "data": {
            "text/html": [
              "\n",
              "  <div id=\"df-fe83657e-6fc7-42c0-8441-ddfd07099f05\">\n",
              "    <div class=\"colab-df-container\">\n",
              "      <div>\n",
              "<style scoped>\n",
              "    .dataframe tbody tr th:only-of-type {\n",
              "        vertical-align: middle;\n",
              "    }\n",
              "\n",
              "    .dataframe tbody tr th {\n",
              "        vertical-align: top;\n",
              "    }\n",
              "\n",
              "    .dataframe thead th {\n",
              "        text-align: right;\n",
              "    }\n",
              "</style>\n",
              "<table border=\"1\" class=\"dataframe\">\n",
              "  <thead>\n",
              "    <tr style=\"text-align: right;\">\n",
              "      <th></th>\n",
              "      <th>participant</th>\n",
              "      <th>event</th>\n",
              "      <th>frame_num</th>\n",
              "      <th>EDA</th>\n",
              "      <th>BVP</th>\n",
              "      <th>TEMP</th>\n",
              "      <th>HR</th>\n",
              "    </tr>\n",
              "  </thead>\n",
              "  <tbody>\n",
              "    <tr>\n",
              "      <th>0</th>\n",
              "      <td>0</td>\n",
              "      <td>5</td>\n",
              "      <td>1</td>\n",
              "      <td>0.740139</td>\n",
              "      <td>0.659890</td>\n",
              "      <td>0.018779</td>\n",
              "      <td>1.00000</td>\n",
              "    </tr>\n",
              "    <tr>\n",
              "      <th>1</th>\n",
              "      <td>0</td>\n",
              "      <td>5</td>\n",
              "      <td>2</td>\n",
              "      <td>0.740139</td>\n",
              "      <td>0.662441</td>\n",
              "      <td>0.018779</td>\n",
              "      <td>1.00000</td>\n",
              "    </tr>\n",
              "    <tr>\n",
              "      <th>2</th>\n",
              "      <td>0</td>\n",
              "      <td>5</td>\n",
              "      <td>3</td>\n",
              "      <td>0.740139</td>\n",
              "      <td>0.667231</td>\n",
              "      <td>0.018779</td>\n",
              "      <td>1.00000</td>\n",
              "    </tr>\n",
              "    <tr>\n",
              "      <th>3</th>\n",
              "      <td>0</td>\n",
              "      <td>5</td>\n",
              "      <td>4</td>\n",
              "      <td>0.740139</td>\n",
              "      <td>0.671122</td>\n",
              "      <td>0.018779</td>\n",
              "      <td>1.00000</td>\n",
              "    </tr>\n",
              "    <tr>\n",
              "      <th>4</th>\n",
              "      <td>0</td>\n",
              "      <td>5</td>\n",
              "      <td>5</td>\n",
              "      <td>0.740139</td>\n",
              "      <td>0.672098</td>\n",
              "      <td>0.018779</td>\n",
              "      <td>1.00000</td>\n",
              "    </tr>\n",
              "    <tr>\n",
              "      <th>...</th>\n",
              "      <td>...</td>\n",
              "      <td>...</td>\n",
              "      <td>...</td>\n",
              "      <td>...</td>\n",
              "      <td>...</td>\n",
              "      <td>...</td>\n",
              "      <td>...</td>\n",
              "    </tr>\n",
              "    <tr>\n",
              "      <th>876573</th>\n",
              "      <td>9</td>\n",
              "      <td>5</td>\n",
              "      <td>125377</td>\n",
              "      <td>0.965801</td>\n",
              "      <td>0.394845</td>\n",
              "      <td>0.864407</td>\n",
              "      <td>0.69692</td>\n",
              "    </tr>\n",
              "    <tr>\n",
              "      <th>876574</th>\n",
              "      <td>9</td>\n",
              "      <td>5</td>\n",
              "      <td>125378</td>\n",
              "      <td>0.965801</td>\n",
              "      <td>0.401940</td>\n",
              "      <td>0.864407</td>\n",
              "      <td>0.69692</td>\n",
              "    </tr>\n",
              "    <tr>\n",
              "      <th>876575</th>\n",
              "      <td>9</td>\n",
              "      <td>5</td>\n",
              "      <td>125379</td>\n",
              "      <td>0.965801</td>\n",
              "      <td>0.407937</td>\n",
              "      <td>0.864407</td>\n",
              "      <td>0.69692</td>\n",
              "    </tr>\n",
              "    <tr>\n",
              "      <th>876576</th>\n",
              "      <td>9</td>\n",
              "      <td>5</td>\n",
              "      <td>125380</td>\n",
              "      <td>0.965801</td>\n",
              "      <td>0.412622</td>\n",
              "      <td>0.864407</td>\n",
              "      <td>0.69692</td>\n",
              "    </tr>\n",
              "    <tr>\n",
              "      <th>876577</th>\n",
              "      <td>9</td>\n",
              "      <td>5</td>\n",
              "      <td>125381</td>\n",
              "      <td>0.965801</td>\n",
              "      <td>0.416192</td>\n",
              "      <td>0.864407</td>\n",
              "      <td>0.69692</td>\n",
              "    </tr>\n",
              "  </tbody>\n",
              "</table>\n",
              "<p>876578 rows × 7 columns</p>\n",
              "</div>\n",
              "      <button class=\"colab-df-convert\" onclick=\"convertToInteractive('df-fe83657e-6fc7-42c0-8441-ddfd07099f05')\"\n",
              "              title=\"Convert this dataframe to an interactive table.\"\n",
              "              style=\"display:none;\">\n",
              "        \n",
              "  <svg xmlns=\"http://www.w3.org/2000/svg\" height=\"24px\"viewBox=\"0 0 24 24\"\n",
              "       width=\"24px\">\n",
              "    <path d=\"M0 0h24v24H0V0z\" fill=\"none\"/>\n",
              "    <path d=\"M18.56 5.44l.94 2.06.94-2.06 2.06-.94-2.06-.94-.94-2.06-.94 2.06-2.06.94zm-11 1L8.5 8.5l.94-2.06 2.06-.94-2.06-.94L8.5 2.5l-.94 2.06-2.06.94zm10 10l.94 2.06.94-2.06 2.06-.94-2.06-.94-.94-2.06-.94 2.06-2.06.94z\"/><path d=\"M17.41 7.96l-1.37-1.37c-.4-.4-.92-.59-1.43-.59-.52 0-1.04.2-1.43.59L10.3 9.45l-7.72 7.72c-.78.78-.78 2.05 0 2.83L4 21.41c.39.39.9.59 1.41.59.51 0 1.02-.2 1.41-.59l7.78-7.78 2.81-2.81c.8-.78.8-2.07 0-2.86zM5.41 20L4 18.59l7.72-7.72 1.47 1.35L5.41 20z\"/>\n",
              "  </svg>\n",
              "      </button>\n",
              "      \n",
              "  <style>\n",
              "    .colab-df-container {\n",
              "      display:flex;\n",
              "      flex-wrap:wrap;\n",
              "      gap: 12px;\n",
              "    }\n",
              "\n",
              "    .colab-df-convert {\n",
              "      background-color: #E8F0FE;\n",
              "      border: none;\n",
              "      border-radius: 50%;\n",
              "      cursor: pointer;\n",
              "      display: none;\n",
              "      fill: #1967D2;\n",
              "      height: 32px;\n",
              "      padding: 0 0 0 0;\n",
              "      width: 32px;\n",
              "    }\n",
              "\n",
              "    .colab-df-convert:hover {\n",
              "      background-color: #E2EBFA;\n",
              "      box-shadow: 0px 1px 2px rgba(60, 64, 67, 0.3), 0px 1px 3px 1px rgba(60, 64, 67, 0.15);\n",
              "      fill: #174EA6;\n",
              "    }\n",
              "\n",
              "    [theme=dark] .colab-df-convert {\n",
              "      background-color: #3B4455;\n",
              "      fill: #D2E3FC;\n",
              "    }\n",
              "\n",
              "    [theme=dark] .colab-df-convert:hover {\n",
              "      background-color: #434B5C;\n",
              "      box-shadow: 0px 1px 3px 1px rgba(0, 0, 0, 0.15);\n",
              "      filter: drop-shadow(0px 1px 2px rgba(0, 0, 0, 0.3));\n",
              "      fill: #FFFFFF;\n",
              "    }\n",
              "  </style>\n",
              "\n",
              "      <script>\n",
              "        const buttonEl =\n",
              "          document.querySelector('#df-fe83657e-6fc7-42c0-8441-ddfd07099f05 button.colab-df-convert');\n",
              "        buttonEl.style.display =\n",
              "          google.colab.kernel.accessAllowed ? 'block' : 'none';\n",
              "\n",
              "        async function convertToInteractive(key) {\n",
              "          const element = document.querySelector('#df-fe83657e-6fc7-42c0-8441-ddfd07099f05');\n",
              "          const dataTable =\n",
              "            await google.colab.kernel.invokeFunction('convertToInteractive',\n",
              "                                                     [key], {});\n",
              "          if (!dataTable) return;\n",
              "\n",
              "          const docLinkHtml = 'Like what you see? Visit the ' +\n",
              "            '<a target=\"_blank\" href=https://colab.research.google.com/notebooks/data_table.ipynb>data table notebook</a>'\n",
              "            + ' to learn more about interactive tables.';\n",
              "          element.innerHTML = '';\n",
              "          dataTable['output_type'] = 'display_data';\n",
              "          await google.colab.output.renderOutput(dataTable, element);\n",
              "          const docLink = document.createElement('div');\n",
              "          docLink.innerHTML = docLinkHtml;\n",
              "          element.appendChild(docLink);\n",
              "        }\n",
              "      </script>\n",
              "    </div>\n",
              "  </div>\n",
              "  "
            ],
            "text/plain": [
              "        participant  event  frame_num       EDA       BVP      TEMP       HR\n",
              "0                 0      5          1  0.740139  0.659890  0.018779  1.00000\n",
              "1                 0      5          2  0.740139  0.662441  0.018779  1.00000\n",
              "2                 0      5          3  0.740139  0.667231  0.018779  1.00000\n",
              "3                 0      5          4  0.740139  0.671122  0.018779  1.00000\n",
              "4                 0      5          5  0.740139  0.672098  0.018779  1.00000\n",
              "...             ...    ...        ...       ...       ...       ...      ...\n",
              "876573            9      5     125377  0.965801  0.394845  0.864407  0.69692\n",
              "876574            9      5     125378  0.965801  0.401940  0.864407  0.69692\n",
              "876575            9      5     125379  0.965801  0.407937  0.864407  0.69692\n",
              "876576            9      5     125380  0.965801  0.412622  0.864407  0.69692\n",
              "876577            9      5     125381  0.965801  0.416192  0.864407  0.69692\n",
              "\n",
              "[876578 rows x 7 columns]"
            ]
          },
          "execution_count": 11,
          "metadata": {},
          "output_type": "execute_result"
        }
      ],
      "source": [
        "our_df"
      ]
    },
    {
      "cell_type": "markdown",
      "metadata": {
        "id": "xuXxRf05Yd4V"
      },
      "source": [
        "## Random Forest Model"
      ]
    },
    {
      "cell_type": "markdown",
      "metadata": {
        "id": "bDOxgo14QNkY"
      },
      "source": [
        "### Hyperparameters tuning"
      ]
    },
    {
      "cell_type": "code",
      "execution_count": null,
      "metadata": {
        "id": "4YKG5m-9-f_y"
      },
      "outputs": [],
      "source": [
        "random_grid = {'n_estimators': [1000, 1200, 1400],\n",
        "               'max_features': ['sqrt'],\n",
        "               'min_samples_split': [10],\n",
        "               'min_samples_leaf': [4],\n",
        "               'class_weight':['balanced', 'balanced_subsample'],\n",
        "               'bootstrap': [True],\n",
        "               'criterion': ['gini', 'entropy'], \n",
        "               'oob_score': [True, False]\n",
        "                }"
      ]
    },
    {
      "cell_type": "code",
      "execution_count": null,
      "metadata": {
        "colab": {
          "background_save": true,
          "base_uri": "https://localhost:8080/"
        },
        "id": "vH-PchjjAF3N",
        "outputId": "63ab4e16-c019-47b9-82ab-45afc749d0b2"
      },
      "outputs": [
        {
          "name": "stdout",
          "output_type": "stream",
          "text": [
            "Fitting 3 folds for each of 10 candidates, totalling 30 fits\n"
          ]
        }
      ],
      "source": [
        "search_model = RandomizedSearchCV(estimator = RandomForestClassifier(), \n",
        "                                       param_distributions = random_grid, \n",
        "                                      cv = 3, verbose=3, scoring = 'f1_macro',\n",
        "                                       random_state=42, n_jobs = -1)\n",
        "search_model.fit(X_train[['EDA', 'BVP', 'HR', 'TEMP', 'frame_num']].values, Y_train['event'].values)"
      ]
    },
    {
      "cell_type": "code",
      "execution_count": null,
      "metadata": {
        "id": "eRJ7bsBjxFPB"
      },
      "outputs": [],
      "source": [
        "search_model.best_params_"
      ]
    },
    {
      "cell_type": "markdown",
      "metadata": {
        "id": "qicnR79wQSI1"
      },
      "source": [
        "### Model"
      ]
    },
    {
      "cell_type": "code",
      "execution_count": null,
      "metadata": {
        "colab": {
          "base_uri": "https://localhost:8080/"
        },
        "id": "CEZiHAfAYBgy",
        "outputId": "891989ed-b007-41b9-dbf3-199446e03f69"
      },
      "outputs": [
        {
          "name": "stderr",
          "output_type": "stream",
          "text": [
            "/usr/local/lib/python3.7/dist-packages/ipykernel_launcher.py:32: DataConversionWarning: A column-vector y was passed when a 1d array was expected. Please change the shape of y to (n_samples,), for example using ravel().\n",
            "[Parallel(n_jobs=-1)]: Using backend ThreadingBackend with 2 concurrent workers.\n",
            "[Parallel(n_jobs=-1)]: Done  46 tasks      | elapsed:  1.1min\n",
            "[Parallel(n_jobs=-1)]: Done 196 tasks      | elapsed:  3.5min\n",
            "[Parallel(n_jobs=-1)]: Done 446 tasks      | elapsed:  7.0min\n",
            "[Parallel(n_jobs=-1)]: Done 796 tasks      | elapsed: 11.7min\n",
            "[Parallel(n_jobs=-1)]: Done 1000 out of 1000 | elapsed: 14.5min finished\n"
          ]
        },
        {
          "data": {
            "text/plain": [
              "RandomForestClassifier(class_weight='balanced', max_features='sqrt',\n",
              "                       min_samples_leaf=4, min_samples_split=10,\n",
              "                       n_estimators=1000, n_jobs=-1, verbose=1)"
            ]
          },
          "execution_count": 15,
          "metadata": {},
          "output_type": "execute_result"
        }
      ],
      "source": [
        "# participant 1, 5 as test data\n",
        "# model = RandomForestClassifier(bootstrap=True, criterion='entropy',\n",
        "#                               max_features ='auto',\n",
        "#                               min_samples_split = 10,\n",
        "#                               min_samples_leaf = 4,\n",
        "#                               n_estimators = 1000, verbose = 2)\n",
        "\n",
        "## for original data\n",
        "# model = RandomForestClassifier(bootstrap=True, criterion='gini',  \n",
        "#                               max_features ='sqrt',\n",
        "#                               min_samples_split = 10,\n",
        "#                                min_samples_leaf = 4,\n",
        "#                               n_estimators = 1400, \n",
        "#                              verbose = 1)\n",
        "\n",
        "## for original data\n",
        "model = RandomForestClassifier(bootstrap=True, criterion='gini',  \n",
        "                              max_features ='sqrt',\n",
        "                              min_samples_split = 10,\n",
        "                               min_samples_leaf = 4,\n",
        "                              n_estimators = 1000, \n",
        "                               class_weight='balanced',\n",
        "                               n_jobs=-1,\n",
        "                             verbose = 1)\n",
        "\n",
        "# #for merged data\n",
        "# model = RandomForestClassifier(bootstrap=False, criterion='entropy', \n",
        "#                               max_features ='sqrt',\n",
        "#                               min_samples_split = 10,\n",
        "#                               min_samples_leaf = 4,\n",
        "#                               n_estimators = 1200, verbose = 2)\n",
        "model.fit(X_train, Y_train)"
      ]
    },
    {
      "cell_type": "code",
      "execution_count": null,
      "metadata": {
        "id": "8H0QXXUg-msB"
      },
      "outputs": [],
      "source": [
        "# pickle.dump(model, open(\"/content/drive/MyDrive/Multimedia Term Project/code/random_forest_model\", 'wb'))\n",
        "# pickle.dump(model, open(\"/content/drive/MyDrive/Multimedia Term Project/code/random_forest_new_model\", 'wb'))"
      ]
    },
    {
      "cell_type": "code",
      "execution_count": null,
      "metadata": {
        "colab": {
          "background_save": true,
          "base_uri": "https://localhost:8080/"
        },
        "id": "wpbNEW2fyQyK",
        "outputId": "9a665613-4162-46fe-b71e-72de50abaf17"
      },
      "outputs": [
        {
          "name": "stderr",
          "output_type": "stream",
          "text": [
            "[Parallel(n_jobs=2)]: Using backend ThreadingBackend with 2 concurrent workers.\n",
            "[Parallel(n_jobs=2)]: Done  46 tasks      | elapsed:    2.0s\n",
            "[Parallel(n_jobs=2)]: Done 196 tasks      | elapsed:    8.1s\n",
            "[Parallel(n_jobs=2)]: Done 446 tasks      | elapsed:   18.4s\n",
            "[Parallel(n_jobs=2)]: Done 796 tasks      | elapsed:   33.0s\n",
            "[Parallel(n_jobs=2)]: Done 1000 out of 1000 | elapsed:   41.4s finished\n"
          ]
        }
      ],
      "source": [
        "y_predict = model.predict(X_test)"
      ]
    },
    {
      "cell_type": "markdown",
      "metadata": {
        "id": "zt3NSPdMP-mf"
      },
      "source": [
        "## Performance"
      ]
    },
    {
      "cell_type": "code",
      "execution_count": null,
      "metadata": {
        "colab": {
          "background_save": true
        },
        "id": "8SNnb7rDZ_7g",
        "outputId": "bb349240-7b65-4b4b-d888-f8a33cf504d5"
      },
      "outputs": [
        {
          "name": "stderr",
          "output_type": "stream",
          "text": [
            "/usr/local/lib/python3.7/dist-packages/sklearn/metrics/_classification.py:1318: UndefinedMetricWarning: Precision and F-score are ill-defined and being set to 0.0 in labels with no predicted samples. Use `zero_division` parameter to control this behavior.\n",
            "  _warn_prf(average, modifier, msg_start, len(result))\n",
            "/usr/local/lib/python3.7/dist-packages/sklearn/metrics/_classification.py:1318: UndefinedMetricWarning: Precision and F-score are ill-defined and being set to 0.0 in labels with no predicted samples. Use `zero_division` parameter to control this behavior.\n",
            "  _warn_prf(average, modifier, msg_start, len(result))\n"
          ]
        },
        {
          "name": "stdout",
          "output_type": "stream",
          "text": [
            "              precision    recall  f1-score   support\n",
            "\n",
            "           0       0.00      0.00      0.00        51\n",
            "           1       0.00      0.00      0.00        38\n",
            "           2       0.00      0.00      0.00        53\n",
            "           3       0.00      0.00      0.00        39\n",
            "           4       0.00      0.00      0.00       229\n",
            "           5       1.00      1.00      1.00    350222\n",
            "\n",
            "    accuracy                           1.00    350632\n",
            "   macro avg       0.17      0.17      0.17    350632\n",
            "weighted avg       1.00      1.00      1.00    350632\n",
            "\n",
            "0.9987308631271532\n"
          ]
        },
        {
          "name": "stderr",
          "output_type": "stream",
          "text": [
            "/usr/local/lib/python3.7/dist-packages/sklearn/metrics/_classification.py:1318: UndefinedMetricWarning: Precision and F-score are ill-defined and being set to 0.0 in labels with no predicted samples. Use `zero_division` parameter to control this behavior.\n",
            "  _warn_prf(average, modifier, msg_start, len(result))\n"
          ]
        }
      ],
      "source": [
        "print(classification_report(Y_test, y_predict))\n",
        "print(accuracy_score(Y_test, y_predict))"
      ]
    },
    {
      "cell_type": "code",
      "execution_count": null,
      "metadata": {
        "colab": {
          "base_uri": "https://localhost:8080/",
          "height": 279
        },
        "id": "2m0gchoUP1js",
        "outputId": "54f39ed3-fa29-4319-b79d-aa99ea180f95"
      },
      "outputs": [
        {
          "data": {
            "image/png": "[encoded data removed]",
            "text/plain": [
              "<Figure size 432x288 with 2 Axes>"
            ]
          },
          "metadata": {},
          "output_type": "display_data"
        }
      ],
      "source": [
        "cmx = confusion_matrix(Y_test, y_predict)\n",
        "disp = ConfusionMatrixDisplay(cmx)\n",
        "disp.plot()\n",
        "plt.show()"
      ]
    }
  ],
  "metadata": {
    "colab": {
      "name": "random_forest.ipynb",
      "provenance": []
    },
    "kernelspec": {
      "display_name": "Python 3",
      "name": "python3"
    },
    "language_info": {
      "name": "python"
    }
  },
  "nbformat": 4,
  "nbformat_minor": 0
}