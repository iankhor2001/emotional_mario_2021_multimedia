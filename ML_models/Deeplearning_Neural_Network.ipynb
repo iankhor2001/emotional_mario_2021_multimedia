{
  "cells": [
    {
      "cell_type": "markdown",
      "metadata": {
        "id": "v-bs3myVAO1Y"
      },
      "source": [
        "# Import modules"
      ]
    },
    {
      "cell_type": "code",
      "execution_count": 28,
      "metadata": {
        "colab": {
          "base_uri": "https://localhost:8080/"
        },
        "id": "BPsrQ9pWYIJL",
        "outputId": "f1dd72f9-080c-484e-aa9d-1ed36504e730"
      },
      "outputs": [
        {
          "name": "stdout",
          "output_type": "stream",
          "text": [
            "Drive already mounted at /content/drive; to attempt to forcibly remount, call drive.mount(\"/content/drive\", force_remount=True).\n"
          ]
        }
      ],
      "source": [
        "from google.colab import drive\n",
        "drive.mount(\"/content/drive\")"
      ]
    },
    {
      "cell_type": "code",
      "execution_count": 29,
      "metadata": {
        "id": "ke6YCJ1jYP30"
      },
      "outputs": [],
      "source": [
        "from tensorflow.keras.layers import Embedding, LSTM, Dense, Dropout\n",
        "from tensorflow.keras.models import Sequential\n",
        "from sklearn.preprocessing import LabelEncoder\n",
        "#from sklearn.metrics import roc_auc_score\n",
        "import tensorflow as tf\n",
        "import pandas as pd\n",
        "import numpy as np\n",
        "import tensorflow.keras as keras\n",
        "import sklearn\n",
        "import os\n",
        "from pathlib import Path\n",
        "from matplotlib import pyplot as plt\n",
        "%matplotlib inline\n",
        "np.random.seed(30)"
      ]
    },
    {
      "cell_type": "code",
      "execution_count": 30,
      "metadata": {
        "id": "baa-vw7VtPF3"
      },
      "outputs": [],
      "source": [
        "from tensorflow.keras.metrics import TruePositives, TrueNegatives, FalsePositives, FalseNegatives \n",
        "from numpy import sqrt, diag, zeros\n",
        "from sklearn.metrics import accuracy_score, classification_report, f1_score, confusion_matrix, ConfusionMatrixDisplay \n",
        "from sklearn.utils import resample"
      ]
    },
    {
      "cell_type": "markdown",
      "metadata": {
        "id": "Ijg4JdaV7In4"
      },
      "source": [
        "# Data Preprocessing"
      ]
    },
    {
      "cell_type": "markdown",
      "metadata": {
        "id": "Cp5YXaBr9KFp"
      },
      "source": [
        "## Import data"
      ]
    },
    {
      "cell_type": "code",
      "execution_count": null,
      "metadata": {
        "id": "x2c3K5ayYS_U"
      },
      "outputs": [],
      "source": [
        "data_path = '/content/drive/Shareddrives/PC_Backup/Final/Multimedia Term Project/dataset/integrated_rescaled_all.csv'\n",
        "data = pd.read_csv(data_path)"
      ]
    },
    {
      "cell_type": "code",
      "execution_count": null,
      "metadata": {
        "id": "Gzj_UP7HbQWP"
      },
      "outputs": [],
      "source": [
        "data_path = '/content/drive/Shareddrives/PC_Backup/Final/Multimedia Term Project/dataset/rescaled_all_frames/all_training_dataset.csv'\n",
        "data = pd.read_csv(data_path)"
      ]
    },
    {
      "cell_type": "code",
      "execution_count": null,
      "metadata": {
        "colab": {
          "base_uri": "https://localhost:8080/",
          "height": 341
        },
        "id": "YfKxOSbOUBou",
        "outputId": "594a5f41-0865-4c77-b33d-fd82b9daccbb"
      },
      "outputs": [],
      "source": [
        "data = pd.read_csv('/content/frame_added_and_standardizedstandard_frame_added_all_training.csv')"
      ]
    },
    {
      "cell_type": "markdown",
      "metadata": {
        "id": "bh1HhPPcZGJw"
      },
      "source": [
        "## Data Split"
      ]
    },
    {
      "cell_type": "code",
      "execution_count": null,
      "metadata": {
        "id": "pk0BCx9wZJNx"
      },
      "outputs": [],
      "source": [
        "if \"Set\" not in data.columns:\n",
        "  data[\"Set\"] = np.random.choice([\"train\",\"valid\",\"test\"], p=[.8,.1,.1],size=(data.shape[0]))"
      ]
    },
    {
      "cell_type": "code",
      "execution_count": null,
      "metadata": {
        "id": "lX6xMiRHlyYa"
      },
      "outputs": [],
      "source": [
        "if \"Set\" not in data.columns:\n",
        "  data[\"Set\"] = np.random.choice([\"train\",\"valid\",\"test\"], p=[.6,.3,.1],size=(data.shape[0]))"
      ]
    },
    {
      "cell_type": "code",
      "execution_count": null,
      "metadata": {
        "id": "DPpB23JFZPkJ"
      },
      "outputs": [],
      "source": [
        "train_indices = data[data.Set==\"train\"].index\n",
        "valid_indices = data[data.Set==\"valid\"].index\n",
        "test_indices  = data[data.Set==\"test\"].index"
      ]
    },
    {
      "cell_type": "code",
      "execution_count": null,
      "metadata": {
        "id": "rRRNQ3ZwZSyA"
      },
      "outputs": [],
      "source": [
        "nunique = data.nunique()\n",
        "types = data.dtypes\n",
        "unused_feat = ['Set','frame_num','participant', 'event', 'TEMP']\n",
        "features = [ col for col in data.columns if col not in unused_feat]\n",
        "features_event = features+['event']"
      ]
    },
    {
      "cell_type": "markdown",
      "metadata": {
        "id": "KFlGu28Q74ap"
      },
      "source": [
        "Finding data count for each event"
      ]
    },
    {
      "cell_type": "code",
      "execution_count": null,
      "metadata": {
        "colab": {
          "base_uri": "https://localhost:8080/"
        },
        "id": "mN0wmtJoFvDL",
        "outputId": "90091ce3-1387-46bb-97aa-983f77a87611"
      },
      "outputs": [
        {
          "name": "stdout",
          "output_type": "stream",
          "text": [
            "{0: 1352.7438271604938, 1: 1554.2163120567375, 2: 1248.6866096866097, 3: 1554.2163120567375, 4: 241.08305830583058, 5: 0.1668606379847998}\n"
          ]
        }
      ],
      "source": [
        "# Count samples per class\n",
        "classes_0 = data[data['event'] == 0]\n",
        "classes_1 = data[data['event'] == 1]\n",
        "classes_2 = data[data['event'] == 2]\n",
        "classes_3 = data[data['event'] == 3]\n",
        "classes_4 = data[data['event'] == 4]\n",
        "classes_5 = data[data['event'] == 5]\n",
        "\n",
        "# Convert parts into NumPy arrays for weight computation\n",
        "zero_numpy = classes_0['event'].to_numpy()\n",
        "one_numpy = classes_1['event'].to_numpy()\n",
        "two_numpy = classes_2['event'].to_numpy()\n",
        "three_numpy = classes_3['event'].to_numpy()\n",
        "four_numpy = classes_4['event'].to_numpy()\n",
        "five_numpy = classes_5['event'].to_numpy()\n",
        "all_together = np.concatenate((zero_numpy, one_numpy, two_numpy, three_numpy, four_numpy, five_numpy))\n",
        "unique_classes = np.unique(all_together)\n",
        "\n",
        "# Compute weights\n",
        "weights = sklearn.utils.class_weight.compute_class_weight('balanced', classes=np.unique(unique_classes),  y=all_together)\n",
        "\n",
        "class_weights = { 0: weights[0],\n",
        "                1: weights[1],\n",
        "                2: weights[2],\n",
        "                3: weights[3],\n",
        "                4: weights[4],\n",
        "                5: weights[5]}\n",
        "print(class_weights)"
      ]
    },
    {
      "cell_type": "markdown",
      "metadata": {
        "id": "mqAlcUii8PAN"
      },
      "source": [
        "Splitting into training, validating, testing data"
      ]
    },
    {
      "cell_type": "code",
      "execution_count": null,
      "metadata": {
        "id": "0K7fycFyZq0k"
      },
      "outputs": [],
      "source": [
        "X_train = data[features].values[train_indices]\n",
        "y_train = data[\"event\"].values[train_indices]\n",
        "data_train = data[features_event].values[train_indices]\n",
        "\n",
        "X_valid = data[features].values[valid_indices]\n",
        "y_valid = data[\"event\"].values[valid_indices]\n",
        "data_valid = data[features_event].values[valid_indices]\n",
        "\n",
        "X_test = data[features].values[test_indices]\n",
        "y_test = data[\"event\"].values[test_indices]"
      ]
    },
    {
      "cell_type": "markdown",
      "metadata": {
        "id": "PUjvnarV8j9V"
      },
      "source": [
        "## Upsampling training dataset"
      ]
    },
    {
      "cell_type": "markdown",
      "metadata": {
        "id": "l0n2QkI58Zxx"
      },
      "source": [
        "Finding data count for each event in training dataset\n",
        "The data is very imbalanced:-\n",
        "\n",
        "\n",
        "---\n",
        "\n",
        "\n",
        "\n",
        "*   *tensorflow tutorial:https://www.tensorflow.org/tutorials/structured_data/imbalanced_data*\n",
        "*   *Tour of evaluation metrics for imbalanced classification: https://machinelearningmastery.com/tour-of-evaluation-metrics-for-imbalanced-classification/*\n",
        "\n",
        "\n",
        "\n",
        "\n"
      ]
    },
    {
      "cell_type": "code",
      "execution_count": null,
      "metadata": {
        "id": "y0CfUnQU1D1y"
      },
      "outputs": [],
      "source": [
        "# Count samples per class\n",
        "classes_0_train = data_train[data_train[:,3] == 0]\n",
        "classes_1_train = data_train[data_train[:,3] == 1]\n",
        "classes_2_train = data_train[data_train[:,3] == 2]\n",
        "classes_3_train = data_train[data_train[:,3] == 3]\n",
        "classes_4_train = data_train[data_train[:,3] == 4]\n",
        "classes_5_train = data_train[data_train[:,3] == 5]"
      ]
    },
    {
      "cell_type": "markdown",
      "metadata": {
        "id": "BhN2RPfVA3hV"
      },
      "source": [
        "***sklearn.utils.resample*** API:\n",
        "https://scikit-learn.org/stable/modules/generated/sklearn.utils.resample.html"
      ]
    },
    {
      "cell_type": "code",
      "execution_count": null,
      "metadata": {
        "id": "5DoXeWb253K6"
      },
      "outputs": [],
      "source": [
        "X_train_resample_0 = resample(classes_0_train,\n",
        "             replace=True,\n",
        "             #n_samples=len(classes_0_train),\n",
        "             n_samples=477,\n",
        "             random_state=42)\n",
        "\n",
        "X_train_resample_1 = resample(classes_1_train,\n",
        "             replace=True,\n",
        "             #n_samples=len(classes_0_train),\n",
        "             n_samples=477,\n",
        "             random_state=42)\n",
        "\n",
        "X_train_resample_2 = resample(classes_2_train,\n",
        "             replace=True,\n",
        "             #n_samples=len(classes_0_train),\n",
        "             n_samples=477,\n",
        "             random_state=42)\n",
        "\n",
        "X_train_resample_3 = resample(classes_3_train,\n",
        "             replace=True,\n",
        "             #n_samples=len(classes_0_train),\n",
        "             n_samples=477,\n",
        "             random_state=42)\n",
        "\n",
        "X_train_resample_5 = resample(classes_5_train,\n",
        "             replace=True,\n",
        "             #n_samples=len(classes_0_train),\n",
        "             n_samples=477,\n",
        "             random_state=42)\n",
        "\n",
        "#X_train_resample = np.append(X_train_resample,classes_0_train,axis=0)\n",
        "#X_train_resample = np.append(X_train_resample,classes_1_train,axis=0)\n",
        "#X_train_resample = np.append(X_train_resample,classes_2_train,axis=0)\n",
        "#X_train_resample = np.append(X_train_resample,classes_3_train,axis=0)\n",
        "#X_train_resample = np.append(X_train_resample,classes_4_train,axis=0)\n",
        "\n",
        "X_train_resample = classes_4_train\n",
        "X_train_resample = np.append(X_train_resample,X_train_resample_0,axis=0)\n",
        "X_train_resample = np.append(X_train_resample,X_train_resample_1,axis=0)\n",
        "X_train_resample = np.append(X_train_resample,X_train_resample_2,axis=0)\n",
        "X_train_resample = np.append(X_train_resample,X_train_resample_3,axis=0)\n",
        "X_train_resample = np.append(X_train_resample,X_train_resample_5,axis=0)"
      ]
    },
    {
      "cell_type": "code",
      "execution_count": null,
      "metadata": {
        "colab": {
          "base_uri": "https://localhost:8080/",
          "height": 190
        },
        "id": "o8tqWcDvApya",
        "outputId": "564e656d-77e3-4c3f-98f2-41d74da12160"
      },
      "outputs": [],
      "source": [
        "X_train = X_train_resample[:,0:3]\n",
        "y_train = X_train_resample[:,3]"
      ]
    },
    {
      "cell_type": "markdown",
      "metadata": {
        "id": "5-y3xES9-CDu"
      },
      "source": [
        "## Use One-hot encoding for training and validation set"
      ]
    },
    {
      "cell_type": "code",
      "execution_count": null,
      "metadata": {
        "id": "squEjaITCq6_"
      },
      "outputs": [],
      "source": [
        "num_categories = 6\n",
        "y_train_cat = keras.utils.to_categorical(y_train, num_categories)\n",
        "y_valid_cat = keras.utils.to_categorical(y_valid, num_categories)"
      ]
    },
    {
      "cell_type": "markdown",
      "metadata": {
        "id": "YqScCeA0-9YP"
      },
      "source": [
        "Ignore this"
      ]
    },
    {
      "cell_type": "code",
      "execution_count": null,
      "metadata": {
        "id": "TRgPnQtxazYr"
      },
      "outputs": [],
      "source": [
        "#def g_mean(y_true, y_pred):\n",
        "#  cnf = tf.math.confusion_matrix(y_true.numpy(), y_pred.numpy(), num_classes=6)\n",
        "#  cnf_matrix = cnf.numpy()\n",
        "#  FP = cnf_matrix.sum(axis=0) - diag(cnf_matrix) \n",
        "#  FN = cnf_matrix.sum(axis=1) - diag(cnf_matrix)\n",
        "#  TP = diag(cnf_matrix)\n",
        "#  TN = cnf_matrix.sum() - (FP + FN + TP)\n",
        "#  FP = FP.astype(float).sum()\n",
        "#  FN = FN.astype(float).sum()\n",
        "#  TP = TP.astype(float).sum()\n",
        "#  TN = TN.astype(float).sum()\n",
        "#  sensitivity = TP/(TP+FN)\n",
        "#  specificity = TN/(FP+TN)\n",
        "#  return sqrt(sensitivity*specificity)\n",
        "#\n",
        "#def weighted_categorical_crossentropy(y_true,y_pred):\n",
        "#  m = tf.keras.metrics.CategoricalCrossentropy(name=\"categorical_crossentropy\",)\n",
        "#  m.update_state(y_true, y_pred,\n",
        "#        #sample_weight=tf.constant([2,2,2,2,2,1])\n",
        "#  )\n",
        "#  return m.result()"
      ]
    },
    {
      "cell_type": "code",
      "execution_count": 31,
      "metadata": {
        "colab": {
          "base_uri": "https://localhost:8080/",
          "height": 592
        },
        "id": "pVjOG_-DZFQk",
        "outputId": "d76e70bc-25ba-4273-cc61-1b10e5b9879f"
      },
      "outputs": [
        {
          "data": {
            "image/png": "[encoded data removed]",
            "text/plain": [
              "<Figure size 720x720 with 1 Axes>"
            ]
          },
          "metadata": {
            "needs_background": "light"
          },
          "output_type": "display_data"
        }
      ],
      "source": [
        "from sklearn.decomposition import PCA\n",
        "PCA_model = PCA(n_components=2,random_state=42)\n",
        "data_transformed = PCA_model.fit_transform(data[features], data[\"event\"])\n",
        "fig = plt.figure(figsize=(10,10))\n",
        "ax0 = fig.add_subplot(111)\n",
        "\n",
        "ax0.scatter(data_transformed.T[0],data_transformed.T[1])\n",
        "for l,c in zip((np.unique(data[\"event\"])),['red','green','blue','gold','purple']):\n",
        "    ax0.scatter(data_transformed.T[0,data[\"event\"]==l],data_transformed.T[1,data[\"event\"]==l],c=c,label=l)\n",
        "\n",
        "ax0.legend()\n",
        "plt.show()"
      ]
    },
    {
      "cell_type": "markdown",
      "metadata": {
        "id": "ZqgrdtQS-o7R"
      },
      "source": [
        "# Model Training"
      ]
    },
    {
      "cell_type": "markdown",
      "metadata": {
        "id": "Ump91HszJxru"
      },
      "source": [
        "## Model Building"
      ]
    },
    {
      "cell_type": "markdown",
      "metadata": {
        "id": "_ySovDJp_Fbr"
      },
      "source": [
        "Choose one of the following three model:"
      ]
    },
    {
      "cell_type": "code",
      "execution_count": null,
      "metadata": {
        "id": "5R07fTWvAUVT"
      },
      "outputs": [],
      "source": [
        "model = Sequential()"
      ]
    },
    {
      "cell_type": "code",
      "execution_count": null,
      "metadata": {
        "id": "y0YR2PrwDM-f"
      },
      "outputs": [],
      "source": [
        "model.add(Dense(units=2862, activation='relu', input_shape=(4,)))\n",
        "model.add(Dense(units = 512, activation='relu'))\n",
        "model.add(Dense(units = 6, activation='softmax'))"
      ]
    },
    {
      "cell_type": "markdown",
      "metadata": {
        "id": "wymJNn9BJyyY"
      },
      "source": [
        "or"
      ]
    },
    {
      "cell_type": "code",
      "execution_count": null,
      "metadata": {
        "id": "OfJ5iNUqJxF0"
      },
      "outputs": [],
      "source": [
        "model.add(Embedding(16384, 10, input_length=4))\n",
        "# Add LSTM layer with 100 units\n",
        "model.add(LSTM(100))\n",
        "model.add(Dropout(0.1))\n",
        "model.add(Dense(units = 512, activation='relu'))\n",
        "model.add(Dense(6, activation='softmax'))"
      ]
    },
    {
      "cell_type": "markdown",
      "metadata": {
        "id": "7nnaiw2OxXwy"
      },
      "source": [
        "or"
      ]
    },
    {
      "cell_type": "code",
      "execution_count": null,
      "metadata": {
        "id": "T7kAU0c1xYU_"
      },
      "outputs": [],
      "source": [
        "model = keras.Sequential(\n",
        "    [\n",
        "        keras.layers.Dense(\n",
        "            3000, activation=\"relu\", input_shape=(3,)\n",
        "        ),\n",
        "        keras.layers.Dense(256, activation=\"relu\"),\n",
        "        keras.layers.Dropout(0.3),\n",
        "        keras.layers.Dense(256, activation=\"relu\"),\n",
        "        keras.layers.Dropout(0.3),\n",
        "        keras.layers.Dense(6, activation=\"softmax\"),\n",
        "    ]\n",
        ")"
      ]
    },
    {
      "cell_type": "markdown",
      "metadata": {
        "id": "Kx18YV3jJz4-"
      },
      "source": [
        "SUMMARY"
      ]
    },
    {
      "cell_type": "code",
      "execution_count": null,
      "metadata": {
        "colab": {
          "base_uri": "https://localhost:8080/"
        },
        "id": "ZWOeKJ5ND0ot",
        "outputId": "2eeaf73a-f22a-48df-ffdd-19cbf71718dd"
      },
      "outputs": [
        {
          "name": "stdout",
          "output_type": "stream",
          "text": [
            "Model: \"sequential\"\n",
            "_________________________________________________________________\n",
            " Layer (type)                Output Shape              Param #   \n",
            "=================================================================\n",
            " dense (Dense)               (None, 3000)              12000     \n",
            "                                                                 \n",
            " dense_1 (Dense)             (None, 256)               768256    \n",
            "                                                                 \n",
            " dropout (Dropout)           (None, 256)               0         \n",
            "                                                                 \n",
            " dense_2 (Dense)             (None, 256)               65792     \n",
            "                                                                 \n",
            " dropout_1 (Dropout)         (None, 256)               0         \n",
            "                                                                 \n",
            " dense_3 (Dense)             (None, 6)                 1542      \n",
            "                                                                 \n",
            "=================================================================\n",
            "Total params: 847,590\n",
            "Trainable params: 847,590\n",
            "Non-trainable params: 0\n",
            "_________________________________________________________________\n"
          ]
        }
      ],
      "source": [
        "model.summary()"
      ]
    },
    {
      "cell_type": "markdown",
      "metadata": {
        "id": "6FGig-NB_K9u"
      },
      "source": [
        "## Model Compiling"
      ]
    },
    {
      "cell_type": "markdown",
      "metadata": {
        "id": "GQoEPDfG_p_z"
      },
      "source": [
        "Selecting metrics:\n",
        "https://www.tensorflow.org/api_docs/python/tf/keras/metrics\n",
        "\n",
        "Selecting losses:\n",
        "https://www.tensorflow.org/api_docs/python/tf/keras/losses"
      ]
    },
    {
      "cell_type": "markdown",
      "metadata": {
        "id": "CyXO864r_-fP"
      },
      "source": [
        "\n",
        "Metrics and Losses\n",
        "*   https://www.tensorflow.org/api_docs/python/tf/keras/losses/CategoricalCrossentropy\n",
        "*   https://www.tensorflow.org/api_docs/python/tf/keras/metrics/OneHotIoU\n",
        "*   https://www.tensorflow.org/api_docs/python/tf/keras/metrics/OneHotMeanIoU\n",
        "*   https://www.tensorflow.org/api_docs/python/tf/keras/metrics/SensitivityAtSpecificity\n",
        "*   https://www.tensorflow.org/api_docs/python/tf/keras/metrics/CategoricalAccuracy\n"
      ]
    },
    {
      "cell_type": "code",
      "execution_count": null,
      "metadata": {
        "id": "wlzx0Wh6pIBt"
      },
      "outputs": [],
      "source": [
        "weighted_metrics = [\n",
        "                    keras.metrics.CategoricalAccuracy(name=\"CA\"),\n",
        "                    tf.keras.metrics.OneHotMeanIoU(num_classes=6),\n",
        "                    #tf.keras.metrics.OneHotIoU(num_classes=6, target_class_ids=[0,1,2,3,4]),\n",
        "                    #keras.metrics.SpecificityAtSensitivity(0.5,name=\"Specificity\"),\n",
        "                    keras.metrics.Precision(name=\"Precision\")\n",
        "                ]"
      ]
    },
    {
      "cell_type": "markdown",
      "metadata": {
        "id": "PbHmOoPY_40Q"
      },
      "source": [
        "Class weight from all datas"
      ]
    },
    {
      "cell_type": "code",
      "execution_count": null,
      "metadata": {
        "colab": {
          "base_uri": "https://localhost:8080/"
        },
        "id": "XbkAbFgHCEoI",
        "outputId": "2b21a4e8-7d04-40b8-ad44-6fc87a3f5bdc"
      },
      "outputs": [
        {
          "name": "stdout",
          "output_type": "stream",
          "text": [
            "[1352.7438271604938, 1554.2163120567375, 1248.6866096866097, 1554.2163120567375, 241.08305830583058, 0.1668606379847998]\n"
          ]
        }
      ],
      "source": [
        "class_w_list = [1352.7438271604938,1554.2163120567375,1248.6866096866097,1554.2163120567375,241.08305830583058,0.1668606379847998]\n",
        "print(class_w_list)"
      ]
    },
    {
      "cell_type": "code",
      "execution_count": null,
      "metadata": {
        "id": "QYkRzikgD2QW"
      },
      "outputs": [],
      "source": [
        "model.compile(\n",
        "    loss='categorical_crossentropy', \n",
        "    loss_weights=class_w_list,\n",
        "    weighted_metrics=weighted_metrics, \n",
        "    optimizer='adam')\n",
        "callbacks = [keras.callbacks.ModelCheckpoint(\"classification_{epoch}.h5\")]"
      ]
    },
    {
      "cell_type": "code",
      "execution_count": null,
      "metadata": {
        "id": "wJhd644fD0BV"
      },
      "outputs": [],
      "source": [
        "EPOCHS = 20"
      ]
    },
    {
      "cell_type": "markdown",
      "metadata": {
        "id": "jpwilCFr_O2Z"
      },
      "source": [
        "## Model Fitting"
      ]
    },
    {
      "cell_type": "markdown",
      "metadata": {
        "id": "vhxzm1GKBBj5"
      },
      "source": [
        "https://towardsdatascience.com/handling-overfitting-in-deep-learning-models-c760ee047c6e"
      ]
    },
    {
      "cell_type": "code",
      "execution_count": null,
      "metadata": {
        "colab": {
          "base_uri": "https://localhost:8080/",
          "height": 744
        },
        "id": "DrKvNI7fD5CX",
        "outputId": "ecc00e5c-0991-4620-e750-465071c3eaf4"
      },
      "outputs": [],
      "source": [
        "history = model.fit(\n",
        "    X_train, y_train_cat, verbose=1, \n",
        "    validation_data=(X_valid, y_valid_cat),\n",
        "    class_weight=class_weights,\n",
        "    use_multiprocessing=True,\n",
        "    epochs=EPOCHS,\n",
        "    #callbacks=[early_stopping],\n",
        ")"
      ]
    },
    {
      "cell_type": "markdown",
      "metadata": {
        "id": "rTBFZgoF_UZr"
      },
      "source": [
        "## Visualizing Training"
      ]
    },
    {
      "cell_type": "code",
      "execution_count": null,
      "metadata": {
        "colab": {
          "base_uri": "https://localhost:8080/",
          "height": 295
        },
        "id": "5O3bRTRUhT1b",
        "outputId": "0d80b9a7-81db-4a9e-97a3-f883bf9e4501"
      },
      "outputs": [
        {
          "data": {
            "image/png": "[encoded data removed]",
            "text/plain": [
              "<Figure size 432x288 with 1 Axes>"
            ]
          },
          "metadata": {
            "needs_background": "light"
          },
          "output_type": "display_data"
        }
      ],
      "source": [
        "#  \"Accuracy\"\n",
        "#plt.plot(history.history['categorical_crossentropy'])\n",
        "#plt.plot(history.history['val_categorical_crossentropy'])\n",
        "#plt.title('Model Crossentropy')\n",
        "#plt.ylabel('Cat Crossentropy')\n",
        "#plt.xlabel('Epoch')\n",
        "#plt.legend(['Train', 'Validation'], loc='upper left')\n",
        "#plt.show()\n",
        "# \"Loss\"\n",
        "plt.plot(history.history['loss'])\n",
        "plt.plot(history.history['val_loss'])\n",
        "plt.title('Model Loss')\n",
        "plt.ylabel('Loss')\n",
        "plt.xlabel('Epoch')\n",
        "plt.legend(['Train', 'Validation'], loc='upper left')\n",
        "plt.show()"
      ]
    },
    {
      "cell_type": "markdown",
      "metadata": {
        "id": "ok298BSf_Znr"
      },
      "source": [
        "# Testing Model"
      ]
    },
    {
      "cell_type": "code",
      "execution_count": null,
      "metadata": {
        "id": "_gQGYC2sEVAi"
      },
      "outputs": [],
      "source": [
        "prediction = model.predict(X_test)"
      ]
    },
    {
      "cell_type": "code",
      "execution_count": null,
      "metadata": {
        "id": "h44nXasbEz0_"
      },
      "outputs": [],
      "source": [
        "dictionary={0:0,1:1,2:2,3:3,4:4,5:5}"
      ]
    },
    {
      "cell_type": "code",
      "execution_count": null,
      "metadata": {
        "id": "SI-6U1qmEdgl"
      },
      "outputs": [],
      "source": [
        "result = list(map(lambda x: np.argmax(x), prediction))"
      ]
    },
    {
      "cell_type": "code",
      "execution_count": null,
      "metadata": {
        "id": "X6ZU2UB5aZss"
      },
      "outputs": [],
      "source": [
        "print(result)\n",
        "print(y_test)"
      ]
    },
    {
      "cell_type": "code",
      "execution_count": null,
      "metadata": {
        "colab": {
          "base_uri": "https://localhost:8080/"
        },
        "id": "vCIvxYBoM0SF",
        "outputId": "e3ab21d0-1a2e-474a-9b5f-242fde173350"
      },
      "outputs": [
        {
          "data": {
            "text/plain": [
              "4.598115578456048e-07"
            ]
          },
          "execution_count": 22,
          "metadata": {},
          "output_type": "execute_result"
        }
      ],
      "source": [
        "y_test_list=y_test.tolist()\n",
        "#accuracy_score(y_test_list, result)\n",
        "#classification_report(y_test_list, result)\n",
        "f1_score(y_test_list, result, average='weighted')"
      ]
    },
    {
      "cell_type": "code",
      "execution_count": null,
      "metadata": {
        "colab": {
          "base_uri": "https://localhost:8080/",
          "height": 279
        },
        "id": "2REEaC1TgZBW",
        "outputId": "831fe530-c6a4-4b99-abc1-6ba3df76619c"
      },
      "outputs": [
        {
          "data": {
            "image/png": "[encoded data removed]",
            "text/plain": [
              "<Figure size 432x288 with 2 Axes>"
            ]
          },
          "metadata": {
            "needs_background": "light"
          },
          "output_type": "display_data"
        }
      ],
      "source": [
        "cmx = confusion_matrix(y_test_list, result)\n",
        "disp = ConfusionMatrixDisplay(cmx)\n",
        "disp.plot()\n",
        "plt.show()"
      ]
    },
    {
      "cell_type": "code",
      "execution_count": null,
      "metadata": {
        "colab": {
          "base_uri": "https://localhost:8080/",
          "height": 297
        },
        "id": "9qoQB-7ZhEHy",
        "outputId": "4b73e72a-6c01-471b-d143-454ccc8204fc"
      },
      "outputs": [
        {
          "data": {
            "text/plain": [
              "<sklearn.metrics._plot.confusion_matrix.ConfusionMatrixDisplay at 0x7fa58d438390>"
            ]
          },
          "execution_count": 24,
          "metadata": {},
          "output_type": "execute_result"
        },
        {
          "data": {
            "image/png": "[encoded data removed]",
            "text/plain": [
              "<Figure size 432x288 with 2 Axes>"
            ]
          },
          "metadata": {
            "needs_background": "light"
          },
          "output_type": "display_data"
        }
      ],
      "source": [
        "cmx_event_only = np.delete(cmx, 5, 1)\n",
        "cmx_event_only = np.delete(cmx_event_only, 5, 0)\n",
        "disp_events = ConfusionMatrixDisplay(cmx_event_only)\n",
        "disp_events.plot()"
      ]
    },
    {
      "cell_type": "code",
      "execution_count": null,
      "metadata": {
        "colab": {
          "base_uri": "https://localhost:8080/"
        },
        "id": "e6QIpDB9ki7E",
        "outputId": "0d8c5540-feb2-46f3-c73d-ac4272e3b683"
      },
      "outputs": [
        {
          "name": "stdout",
          "output_type": "stream",
          "text": [
            "              precision    recall  f1-score   support\n",
            "\n",
            "           0       0.00      0.00      0.00        17\n",
            "           1       0.00      0.00      0.00        12\n",
            "           2       0.00      0.00      0.00         8\n",
            "           3       0.00      0.00      0.00         5\n",
            "           4       0.00      1.00      0.00        42\n",
            "           5       0.00      0.00      0.00     87489\n",
            "\n",
            "    accuracy                           0.00     87573\n",
            "   macro avg       0.00      0.17      0.00     87573\n",
            "weighted avg       0.00      0.00      0.00     87573\n",
            "\n"
          ]
        },
        {
          "name": "stderr",
          "output_type": "stream",
          "text": [
            "/usr/local/lib/python3.7/dist-packages/sklearn/metrics/_classification.py:1318: UndefinedMetricWarning: Precision and F-score are ill-defined and being set to 0.0 in labels with no predicted samples. Use `zero_division` parameter to control this behavior.\n",
            "  _warn_prf(average, modifier, msg_start, len(result))\n",
            "/usr/local/lib/python3.7/dist-packages/sklearn/metrics/_classification.py:1318: UndefinedMetricWarning: Precision and F-score are ill-defined and being set to 0.0 in labels with no predicted samples. Use `zero_division` parameter to control this behavior.\n",
            "  _warn_prf(average, modifier, msg_start, len(result))\n",
            "/usr/local/lib/python3.7/dist-packages/sklearn/metrics/_classification.py:1318: UndefinedMetricWarning: Precision and F-score are ill-defined and being set to 0.0 in labels with no predicted samples. Use `zero_division` parameter to control this behavior.\n",
            "  _warn_prf(average, modifier, msg_start, len(result))\n"
          ]
        }
      ],
      "source": [
        "from sklearn.metrics import classification_report\n",
        "print(classification_report(y_test_list, result))"
      ]
    },
    {
      "cell_type": "code",
      "execution_count": null,
      "metadata": {
        "colab": {
          "base_uri": "https://localhost:8080/",
          "height": 395
        },
        "id": "yC8v0rE_4XkJ",
        "outputId": "5e8b9ee7-8a35-4998-c604-f601537c5c45"
      },
      "outputs": [],
      "source": [
        "prediction_train = model.predict(X_train)\n",
        "result_train = list(map(lambda x: np.argmax(x), prediction_train))\n",
        "y_train_list=y_train.tolist()\n",
        "cmx_train = confusion_matrix(y_train_list, result_train)\n",
        "disp = ConfusionMatrixDisplay(cmx_train)\n",
        "disp.plot()\n",
        "plt.show()"
      ]
    },
    {
      "cell_type": "markdown",
      "metadata": {
        "id": "kBeqfVhxd0as"
      },
      "source": [
        "## Testing by participant set"
      ]
    },
    {
      "cell_type": "code",
      "execution_count": null,
      "metadata": {
        "id": "lNCAXBtTd0KX"
      },
      "outputs": [],
      "source": [
        "test_path = '/content/drive/Shareddrives/PC_Backup/Final/Multimedia Term Project/dataset/rescaled_all_frames/all_frames_1.csv'\n",
        "test_data = pd.read_csv(test_path)"
      ]
    },
    {
      "cell_type": "code",
      "execution_count": null,
      "metadata": {
        "id": "wB-heSt9d0H7"
      },
      "outputs": [],
      "source": [
        "unused_feat = ['Set','frame_num','participant']\n",
        "features = [ col for col in test_data.columns if col not in unused_feat]\n",
        "X_final_test = test_data[features].values[:]\n",
        "y_final_test = test_data[\"event\"].values[:]"
      ]
    },
    {
      "cell_type": "code",
      "execution_count": null,
      "metadata": {
        "id": "HL8HkIBReYW5"
      },
      "outputs": [],
      "source": [
        "prediction = model.predict(X_final_test)"
      ]
    },
    {
      "cell_type": "code",
      "execution_count": null,
      "metadata": {
        "id": "2XIxfvDdeZ2E"
      },
      "outputs": [],
      "source": [
        "dictionary={0:0,1:1,2:2,3:3,4:4,5:5}\n",
        "result = list(map(lambda x: np.argmax(x), prediction))\n",
        "y_final_test_list=y_final_test.tolist()\n",
        "accuracy_score(y_final_test_list, result)"
      ]
    },
    {
      "cell_type": "code",
      "execution_count": null,
      "metadata": {
        "id": "N0IsrYFuiWup"
      },
      "outputs": [],
      "source": [
        "cmx_final_test = confusion_matrix(y_final_test_list, result)\n",
        "disp_final_test = ConfusionMatrixDisplay(cmx_final_test)\n",
        "disp_final_test.plot()\n",
        "plt.show()"
      ]
    },
    {
      "cell_type": "markdown",
      "metadata": {
        "id": "Cdd0KRePdxRg"
      },
      "source": [
        "# Saving Model"
      ]
    },
    {
      "cell_type": "code",
      "execution_count": null,
      "metadata": {
        "id": "_1f4FzqFHm1a"
      },
      "outputs": [],
      "source": [
        "import tensorflow as tf"
      ]
    },
    {
      "cell_type": "code",
      "execution_count": null,
      "metadata": {
        "id": "glvouV8NEh2P"
      },
      "outputs": [],
      "source": [
        "tf.saved_model.save(model, './LSTM_Model')"
      ]
    },
    {
      "cell_type": "code",
      "execution_count": null,
      "metadata": {
        "id": "u0sCDzHZICnD"
      },
      "outputs": [],
      "source": [
        "!zip -r /content/LSTM_Model.zip /content/LSTM_Model/"
      ]
    },
    {
      "cell_type": "code",
      "execution_count": null,
      "metadata": {
        "id": "VhhZjxn8IvaI"
      },
      "outputs": [],
      "source": [
        "model.save('Model_3.h5')"
      ]
    },
    {
      "cell_type": "code",
      "execution_count": null,
      "metadata": {
        "id": "u58vOTQlmz9P"
      },
      "outputs": [],
      "source": [
        "from keras.models import load_model\n",
        "model = load_model('Model.h5')"
      ]
    },
    {
      "cell_type": "code",
      "execution_count": null,
      "metadata": {
        "id": "HfX_HszWIzFa"
      },
      "outputs": [],
      "source": [
        "!zip -r /content/Model.zip /content/Model/"
      ]
    }
  ],
  "metadata": {
    "accelerator": "TPU",
    "colab": {
      "collapsed_sections": [
        "v-bs3myVAO1Y",
        "5-y3xES9-CDu",
        "rTBFZgoF_UZr"
      ],
      "name": "Deeplearning - Neural Network.ipynb",
      "provenance": []
    },
    "kernelspec": {
      "display_name": "Python 3",
      "name": "python3"
    },
    "language_info": {
      "name": "python"
    }
  },
  "nbformat": 4,
  "nbformat_minor": 0
}
