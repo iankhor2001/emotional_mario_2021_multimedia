{
 "cells": [
  {
   "cell_type": "markdown",
   "metadata": {
    "tags": []
   },
   "source": [
    "# Import Module & Define Function"
   ]
  },
  {
   "cell_type": "code",
   "execution_count": 2,
   "metadata": {
    "id": "BjymVM-UEtCv"
   },
   "outputs": [],
   "source": [
    "# import the necessary packages\n",
    "import imutils\n",
    "import cv2\n",
    "from matplotlib import pyplot as plt\n",
    "import numpy\n",
    "import os\n",
    "import pandas\n",
    "import pickle"
   ]
  },
  {
   "cell_type": "code",
   "execution_count": 3,
   "metadata": {},
   "outputs": [],
   "source": [
    "def load_images_from_folder(folder):\n",
    "    images = []\n",
    "    for filename in os.listdir(folder):\n",
    "        img = cv2.imread(os.path.join(folder,filename))\n",
    "        if img is not None:\n",
    "            images.append(img)\n",
    "    return images"
   ]
  },
  {
   "cell_type": "code",
   "execution_count": 4,
   "metadata": {},
   "outputs": [],
   "source": [
    "def count_files(path):\n",
    "    count = 0\n",
    "    for root_dir, cur_dir, files in os.walk(path):\n",
    "        count += len(files)\n",
    "    return count"
   ]
  },
  {
   "cell_type": "markdown",
   "metadata": {
    "jp-MarkdownHeadingCollapsed": true,
    "tags": []
   },
   "source": [
    "# Original (Testing)"
   ]
  },
  {
   "cell_type": "code",
   "execution_count": null,
   "metadata": {
    "scrolled": true,
    "tags": []
   },
   "outputs": [],
   "source": [
    "images = load_images_from_folder('game_frame/participant_0/participant_0_30000')"
   ]
  },
  {
   "cell_type": "code",
   "execution_count": 188,
   "metadata": {},
   "outputs": [
    {
     "data": {
      "image/png": "[encoded data removed]",
      "text/plain": [
       "<Figure size 432x288 with 1 Axes>"
      ]
     },
     "metadata": {
      "needs_background": "light"
     },
     "output_type": "display_data"
    }
   ],
   "source": [
    "plt.imshow(images[0][24:31,32:55], cmap='gray')\n",
    "plt.show()"
   ]
  },
  {
   "cell_type": "code",
   "execution_count": 195,
   "metadata": {
    "collapsed": true,
    "jupyter": {
     "outputs_hidden": true
    },
    "tags": []
   },
   "outputs": [
    {
     "data": {
      "image/png": "[encoded data removed]",
      "text/plain": [
       "<Figure size 432x288 with 1 Axes>"
      ]
     },
     "metadata": {
      "needs_background": "light"
     },
     "output_type": "display_data"
    }
   ],
   "source": [
    "plt.imshow(images[0][24:31,48:55], cmap='gray')\n",
    "plt.show()"
   ]
  },
  {
   "cell_type": "code",
   "execution_count": 193,
   "metadata": {
    "collapsed": true,
    "jupyter": {
     "outputs_hidden": true
    },
    "tags": []
   },
   "outputs": [
    {
     "data": {
      "image/png": "[encoded data removed]",
      "text/plain": [
       "<Figure size 432x288 with 1 Axes>"
      ]
     },
     "metadata": {
      "needs_background": "light"
     },
     "output_type": "display_data"
    }
   ],
   "source": [
    "plt.imshow(images[0][24:31,40:47], cmap='gray')\n",
    "plt.show()"
   ]
  },
  {
   "cell_type": "code",
   "execution_count": 190,
   "metadata": {
    "collapsed": true,
    "jupyter": {
     "outputs_hidden": true
    },
    "tags": []
   },
   "outputs": [
    {
     "data": {
      "image/png": "[encoded data removed]",
      "text/plain": [
       "<Figure size 432x288 with 1 Axes>"
      ]
     },
     "metadata": {
      "needs_background": "light"
     },
     "output_type": "display_data"
    }
   ],
   "source": [
    "plt.imshow(images[0][24:31,32:39], cmap='gray')\n",
    "plt.show()"
   ]
  },
  {
   "cell_type": "code",
   "execution_count": null,
   "metadata": {
    "tags": []
   },
   "outputs": [],
   "source": [
    "stage_display_1=[]\n",
    "stage_display_2=[]\n",
    "for i,image in enumerate(images):\n",
    "    stage_display_1.append(image[23:32,151:160])\n",
    "    stage_display_2.append(image[23:32,167:176])\n",
    "    #stage_display_1[i] = image[23:32,151:160]\n",
    "    #stage_display_2[i] = image[23:32,167:176]"
   ]
  },
  {
   "cell_type": "code",
   "execution_count": null,
   "metadata": {
    "tags": []
   },
   "outputs": [],
   "source": [
    "display_1_dictionary = []\n",
    "for image in stage_display_1:\n",
    "    image_bw = cv2.cvtColor(image, cv2.COLOR_BGR2GRAY)\n",
    "    image_bin = numpy.interp(image_bw, (image_bw.min(), image_bw.max()), (0, +1))\n",
    "    flag=False\n",
    "    for item in display_1_dictionary:\n",
    "        if numpy.array_equal(item,image_bin):\n",
    "            flag=True\n",
    "            break\n",
    "        else:\n",
    "            flag=False\n",
    "    if flag!=True:\n",
    "        display_1_dictionary.append(image_bin)\n",
    "    \n",
    "    print(len(display_1_dictionary))"
   ]
  },
  {
   "cell_type": "code",
   "execution_count": null,
   "metadata": {
    "tags": []
   },
   "outputs": [],
   "source": [
    "display_2_dictionary = []\n",
    "for image in stage_display_2:\n",
    "    image_bw = cv2.cvtColor(image, cv2.COLOR_BGR2GRAY)\n",
    "    image_bin = numpy.interp(image_bw, (image_bw.min(), image_bw.max()), (0, +1))\n",
    "    flag=False\n",
    "    for item in display_2_dictionary:\n",
    "        if numpy.array_equal(item,image_bin):\n",
    "            flag=True\n",
    "            break\n",
    "        else:\n",
    "            #plt.imshow(numpy.subtract(item,image_bin))\n",
    "            #plt.show()\n",
    "            flag=False\n",
    "    if flag!=True:\n",
    "        display_2_dictionary.append(image_bin)\n",
    "    \n",
    "    print(len(display_2_dictionary))"
   ]
  },
  {
   "cell_type": "code",
   "execution_count": null,
   "metadata": {
    "tags": []
   },
   "outputs": [],
   "source": [
    "for image in display_1_dictionary:\n",
    "    flag=False\n",
    "    for item in display_2_dictionary:\n",
    "        if numpy.array_equal(item,image):\n",
    "            flag=True\n",
    "            break\n",
    "        else:\n",
    "            #plt.imshow(numpy.subtract(item,image_bin))\n",
    "            #plt.show()\n",
    "            flag=False\n",
    "    print(flag)"
   ]
  },
  {
   "cell_type": "code",
   "execution_count": null,
   "metadata": {
    "tags": []
   },
   "outputs": [],
   "source": [
    "for image in display_2_dictionary:\n",
    "    plt.imshow(image, cmap='gray')\n",
    "    print(image)\n",
    "    plt.show()"
   ]
  },
  {
   "cell_type": "markdown",
   "metadata": {
    "jp-MarkdownHeadingCollapsed": true,
    "tags": []
   },
   "source": [
    "# All image (Finding dictionary)"
   ]
  },
  {
   "cell_type": "code",
   "execution_count": 211,
   "metadata": {
    "scrolled": true,
    "tags": []
   },
   "outputs": [],
   "source": [
    "score_display_lib=[]"
   ]
  },
  {
   "cell_type": "code",
   "execution_count": 227,
   "metadata": {
    "scrolled": true,
    "tags": []
   },
   "outputs": [
    {
     "name": "stdout",
     "output_type": "stream",
     "text": [
      "going\n",
      "imported\n"
     ]
    }
   ],
   "source": [
    "print(\"going\")\n",
    "image_lib = load_images_from_folder('game_frame/participant_0/participant_90001_end')\n",
    "print(\"imported\")"
   ]
  },
  {
   "cell_type": "code",
   "execution_count": null,
   "metadata": {
    "scrolled": true,
    "tags": []
   },
   "outputs": [],
   "source": [
    "for i,image in enumerate(image_lib):\n",
    "    d1 = image[24:31,48:55]\n",
    "    d10 = image[24:31,40:47]\n",
    "    d100 = image[24:31,32:39]\n",
    "    image_bw1 = cv2.cvtColor(d1, cv2.COLOR_BGR2GRAY)\n",
    "    image_bw10 = cv2.cvtColor(d10, cv2.COLOR_BGR2GRAY)\n",
    "    image_bw100 = cv2.cvtColor(d100, cv2.COLOR_BGR2GRAY)\n",
    "    image_bin1 = numpy.interp(image_bw1, (image_bw1.min(), image_bw1.max()), (0, +1))\n",
    "    image_bin10 = numpy.interp(image_bw10, (image_bw10.min(), image_bw10.max()), (0, +1))\n",
    "    image_bin100 = numpy.interp(image_bw100, (image_bw100.min(), image_bw100.max()), (0, +1))\n",
    "    for image in [image_bin1, image_bin10, image_bin100]:\n",
    "        flag=False\n",
    "        for item in score_display_lib:\n",
    "            if numpy.array_equal(item,image):\n",
    "                flag=True\n",
    "                break\n",
    "            else:\n",
    "                flag=False\n",
    "        if flag!=True:\n",
    "            score_display_lib.append(image)\n",
    "            print(f\"new {i}\")\n",
    "print(\"end\")"
   ]
  },
  {
   "cell_type": "code",
   "execution_count": 229,
   "metadata": {},
   "outputs": [
    {
     "data": {
      "text/plain": [
       "478"
      ]
     },
     "execution_count": 229,
     "metadata": {},
     "output_type": "execute_result"
    }
   ],
   "source": [
    "len(score_display_lib)"
   ]
  },
  {
   "cell_type": "code",
   "execution_count": null,
   "metadata": {
    "tags": []
   },
   "outputs": [],
   "source": [
    "for i,image in enumerate(score_display_lib[136:150]):\n",
    "    plt.imshow(image,cmap=\"Greys\")\n",
    "    plt.show()\n",
    "    print(i+136)"
   ]
  },
  {
   "cell_type": "code",
   "execution_count": 230,
   "metadata": {
    "tags": []
   },
   "outputs": [],
   "source": [
    "numpy.save(\"./data_dump/score_display_lib.npy\",score_display_lib)"
   ]
  },
  {
   "cell_type": "code",
   "execution_count": null,
   "metadata": {
    "tags": []
   },
   "outputs": [],
   "source": [
    "print(score_display_lib[0])"
   ]
  },
  {
   "cell_type": "code",
   "execution_count": 215,
   "metadata": {
    "tags": []
   },
   "outputs": [],
   "source": [
    "file_score_display = open(\"./data_dump/score_display_lib.npy\", \"wb\")\n",
    "pickle.dump(score_display_lib, file_score_display)\n",
    "file_stage_display_1.close()"
   ]
  },
  {
   "cell_type": "code",
   "execution_count": 232,
   "metadata": {
    "tags": []
   },
   "outputs": [],
   "source": [
    "del image_lib"
   ]
  },
  {
   "cell_type": "markdown",
   "metadata": {
    "jp-MarkdownHeadingCollapsed": true,
    "tags": []
   },
   "source": [
    "# dictionary"
   ]
  },
  {
   "cell_type": "code",
   "execution_count": null,
   "metadata": {},
   "outputs": [],
   "source": [
    "score_display_dictionary = {\n",
    "    0: [],\n",
    "    1: [],\n",
    "    2: [],\n",
    "    3: [],\n",
    "    4: [],\n",
    "    5: [],\n",
    "    6: [],\n",
    "    7: [],\n",
    "    8: [],\n",
    "    9: []\n",
    "}"
   ]
  },
  {
   "cell_type": "code",
   "execution_count": 262,
   "metadata": {},
   "outputs": [],
   "source": [
    "for i in [8]:\n",
    "    score_display_dictionary[9].append(score_display_lib[i])"
   ]
  },
  {
   "cell_type": "code",
   "execution_count": 265,
   "metadata": {},
   "outputs": [
    {
     "data": {
      "text/plain": [
       "1"
      ]
     },
     "execution_count": 265,
     "metadata": {},
     "output_type": "execute_result"
    }
   ],
   "source": [
    "len(score_display_dictionary[9])"
   ]
  },
  {
   "cell_type": "code",
   "execution_count": 266,
   "metadata": {},
   "outputs": [
    {
     "data": {
      "image/png": "[encoded data removed]",
      "text/plain": [
       "<Figure size 432x288 with 1 Axes>"
      ]
     },
     "metadata": {
      "needs_background": "light"
     },
     "output_type": "display_data"
    }
   ],
   "source": [
    "plt.imshow(score_display_dictionary[9][0], cmap=\"Greys\")\n",
    "plt.show()"
   ]
  },
  {
   "cell_type": "markdown",
   "metadata": {
    "jp-MarkdownHeadingCollapsed": true,
    "tags": []
   },
   "source": [
    "# Saving and Loading Dictionary"
   ]
  },
  {
   "cell_type": "code",
   "execution_count": 267,
   "metadata": {},
   "outputs": [],
   "source": [
    "file_score_display = open(\"./data_dump/score_display_dictionary.npy\", \"wb\")\n",
    "pickle.dump(score_display_dictionary, file_score_display)\n",
    "file_score_display.close()"
   ]
  },
  {
   "cell_type": "code",
   "execution_count": 268,
   "metadata": {},
   "outputs": [
    {
     "name": "stdout",
     "output_type": "stream",
     "text": [
      "[[0. 0. 0. 1. 1. 0. 0.]\n",
      " [0. 0. 1. 1. 1. 0. 0.]\n",
      " [0. 0. 0. 1. 1. 0. 0.]\n",
      " [0. 0. 0. 1. 1. 0. 0.]\n",
      " [0. 0. 0. 1. 1. 0. 0.]\n",
      " [0. 0. 0. 1. 1. 0. 0.]\n",
      " [0. 1. 1. 1. 1. 1. 1.]]\n"
     ]
    }
   ],
   "source": [
    "file_stage_display_1 = open(\"./data_dump/score_display_dictionary.npy\", \"rb\")\n",
    "output1 = pickle.load(file_stage_display_1)\n",
    "print(output1[1][0])\n",
    "file_stage_display_1.close()"
   ]
  },
  {
   "cell_type": "markdown",
   "metadata": {},
   "source": [
    "# Comparison & Prediction"
   ]
  },
  {
   "cell_type": "code",
   "execution_count": null,
   "metadata": {
    "tags": []
   },
   "outputs": [],
   "source": [
    "img1 = cv2.imread(f'game_frame/game_frame_participant_1/game_0.png')\n",
    "#img1 = cv2.imread(f'game_frame/game_frame_participant_1/game_0.png')\n",
    "img2 = cv2.imread(f'game_frame/game_frame_participant_1/game_63226.png')\n",
    "plt.imshow(img1)\n",
    "plt.show()\n",
    "plt.imshow(img2)\n",
    "plt.show()"
   ]
  },
  {
   "cell_type": "code",
   "execution_count": 281,
   "metadata": {},
   "outputs": [],
   "source": [
    "SAMETIME_FRAME = 20\n",
    "START_FRAME = 20\n",
    "participant = 0\n",
    "current_frame = 20\n",
    "current_score = 0"
   ]
  },
  {
   "cell_type": "code",
   "execution_count": 10,
   "metadata": {},
   "outputs": [],
   "source": [
    "file_time_display = open(\"./data_dump/time_display_dictionary.npy\", \"rb\")\n",
    "time_display_dictionary = pickle.load(file_time_display)\n",
    "# print(stage_display_1_dictionary[1][0])\n",
    "file_time_display.close()"
   ]
  },
  {
   "cell_type": "markdown",
   "metadata": {},
   "source": [
    "### start from here"
   ]
  },
  {
   "cell_type": "code",
   "execution_count": 5,
   "metadata": {},
   "outputs": [],
   "source": [
    "# function to return key for any value\n",
    "def get_key_time_dict(val):\n",
    "    val_bw = cv2.cvtColor(val, cv2.COLOR_BGR2GRAY)\n",
    "    val_bin = numpy.interp(val_bw, (val_bw.min(), val_bw.max()), (0, +1))\n",
    "    for key, dict_list in time_display_dictionary.items():\n",
    "        for dict_val in dict_list:\n",
    "            if numpy.array_equal(val_bin,dict_val):\n",
    "                return True, key\n",
    "    return False, 0"
   ]
  },
  {
   "cell_type": "code",
   "execution_count": 6,
   "metadata": {},
   "outputs": [],
   "source": [
    "def get_current_time(current_frame, last_time, frame):\n",
    "    d100 = frame[24:31,208:215]\n",
    "    d10 = frame[24:31,216:223]\n",
    "    d1 = frame[24:31,224:231]\n",
    "    \n",
    "    num1_valid, time_num1 = get_key_time_dict(d1)\n",
    "    if not num1_valid:\n",
    "        return last_time\n",
    "    num10_valid, time_num10 = get_key_time_dict(d10)\n",
    "    if not num10_valid:\n",
    "        return last_time\n",
    "    num100_valid, time_num100 = get_key_time_dict(d100)\n",
    "    if not num100_valid:\n",
    "        return last_time\n",
    "\n",
    "    cur_time = int(f\"{time_num100}{time_num10}{time_num1}\")\n",
    "    return cur_time"
   ]
  },
  {
   "cell_type": "raw",
   "metadata": {},
   "source": [
    "TIME_THRESHOLD=35\n",
    "counter=1\n",
    "time_frozen = True"
   ]
  },
  {
   "cell_type": "code",
   "execution_count": 8,
   "metadata": {},
   "outputs": [],
   "source": [
    "def status_down_check(frame_num, counting_time, counter, frame):\n",
    "    cur_time = get_current_time(frame_num, counting_time, frame)\n",
    "    if (cur_time==400 or cur_time==300):\n",
    "        counter=0\n",
    "        return True, cur_time, counter\n",
    "    if (counter>TIME_THRESHOLD and cur_time==counting_time):\n",
    "        counter=0\n",
    "        return True, cur_time, counter\n",
    "    elif (cur_time != counting_time):\n",
    "        counter=0\n",
    "        return False, cur_time, counter\n",
    "    else:\n",
    "        counter = counter+1\n",
    "        return False, cur_time, counter"
   ]
  },
  {
   "cell_type": "code",
   "execution_count": 27,
   "metadata": {
    "scrolled": true,
    "tags": []
   },
   "outputs": [
    {
     "name": "stdout",
     "output_type": "stream",
     "text": [
      "837 360 True\n",
      "time not frozen - status down\n",
      "874 360 False\n",
      "time not frozen - status down\n",
      "2059 300 False\n",
      "time frozen\n",
      "4747 376 True\n",
      "time not frozen - status down\n",
      "4784 376 False\n",
      "time not frozen - status down\n",
      "5886 322 False\n",
      "time not frozen - status down\n",
      "5923 322 False\n",
      "time not frozen - status down\n",
      "6344 300 False\n",
      "time frozen\n"
     ]
    },
    {
     "ename": "KeyboardInterrupt",
     "evalue": "",
     "output_type": "error",
     "traceback": [
      "\u001b[0;31m---------------------------------------------------------------------------\u001b[0m",
      "\u001b[0;31mKeyboardInterrupt\u001b[0m                         Traceback (most recent call last)",
      "Input \u001b[0;32mIn [27]\u001b[0m, in \u001b[0;36m<cell line: 3>\u001b[0;34m()\u001b[0m\n\u001b[1;32m      2\u001b[0m status_down_time \u001b[38;5;241m=\u001b[39m []\n\u001b[1;32m      3\u001b[0m \u001b[38;5;28;01mfor\u001b[39;00m frame_number \u001b[38;5;129;01min\u001b[39;00m \u001b[38;5;28mrange\u001b[39m(\u001b[38;5;241m1\u001b[39m,count_files(\u001b[38;5;124mf\u001b[39m\u001b[38;5;124m'\u001b[39m\u001b[38;5;124mgame_frame/game_frame_participant_\u001b[39m\u001b[38;5;132;01m{\u001b[39;00mparticipant\u001b[38;5;132;01m}\u001b[39;00m\u001b[38;5;124m/\u001b[39m\u001b[38;5;124m'\u001b[39m)):\n\u001b[1;32m      4\u001b[0m \u001b[38;5;66;03m# for frame_number in range(61277, 67301):\u001b[39;00m\n\u001b[1;32m      5\u001b[0m     \u001b[38;5;66;03m# print(counter)\u001b[39;00m\n\u001b[1;32m      6\u001b[0m     \u001b[38;5;66;03m# check.append(counting_time)\u001b[39;00m\n\u001b[1;32m      7\u001b[0m     \u001b[38;5;66;03m# count.append(counter)\u001b[39;00m\n\u001b[0;32m----> 8\u001b[0m     flag, counting_time, counter \u001b[38;5;241m=\u001b[39m \u001b[43mstatus_down_check\u001b[49m\u001b[43m(\u001b[49m\u001b[43mframe_number\u001b[49m\u001b[43m,\u001b[49m\u001b[43m \u001b[49m\u001b[43mcounting_time\u001b[49m\u001b[43m,\u001b[49m\u001b[43m \u001b[49m\u001b[43mcounter\u001b[49m\u001b[43m)\u001b[49m\n\u001b[1;32m      9\u001b[0m     \u001b[38;5;28;01mif\u001b[39;00m flag:\n\u001b[1;32m     10\u001b[0m         \u001b[38;5;28;01mif\u001b[39;00m (counting_time \u001b[38;5;129;01min\u001b[39;00m [\u001b[38;5;241m400\u001b[39m,\u001b[38;5;241m300\u001b[39m]) \u001b[38;5;129;01mand\u001b[39;00m time_frozen:\n",
      "Input \u001b[0;32mIn [8]\u001b[0m, in \u001b[0;36mstatus_down_check\u001b[0;34m(frame_num, counting_time, counter)\u001b[0m\n\u001b[1;32m      1\u001b[0m \u001b[38;5;28;01mdef\u001b[39;00m \u001b[38;5;21mstatus_down_check\u001b[39m(frame_num, counting_time, counter):\n\u001b[0;32m----> 2\u001b[0m     cur_time \u001b[38;5;241m=\u001b[39m \u001b[43mget_current_time\u001b[49m\u001b[43m(\u001b[49m\u001b[43mframe_num\u001b[49m\u001b[43m,\u001b[49m\u001b[43m \u001b[49m\u001b[43mcounting_time\u001b[49m\u001b[43m)\u001b[49m\n\u001b[1;32m      3\u001b[0m     \u001b[38;5;28;01mif\u001b[39;00m (cur_time\u001b[38;5;241m==\u001b[39m\u001b[38;5;241m400\u001b[39m \u001b[38;5;129;01mor\u001b[39;00m cur_time\u001b[38;5;241m==\u001b[39m\u001b[38;5;241m300\u001b[39m):\n\u001b[1;32m      4\u001b[0m         counter\u001b[38;5;241m=\u001b[39m\u001b[38;5;241m0\u001b[39m\n",
      "Input \u001b[0;32mIn [6]\u001b[0m, in \u001b[0;36mget_current_time\u001b[0;34m(current_frame, last_time)\u001b[0m\n\u001b[1;32m      1\u001b[0m \u001b[38;5;28;01mdef\u001b[39;00m \u001b[38;5;21mget_current_time\u001b[39m(current_frame, last_time):\n\u001b[1;32m      2\u001b[0m     \u001b[38;5;66;03m# frame = cv2.imread(f'game_frame/game_frame_participant_{participant}/frame_test/game_{current_frame}.png')\u001b[39;00m\n\u001b[0;32m----> 3\u001b[0m     frame \u001b[38;5;241m=\u001b[39m \u001b[43mcv2\u001b[49m\u001b[38;5;241;43m.\u001b[39;49m\u001b[43mimread\u001b[49m\u001b[43m(\u001b[49m\u001b[38;5;124;43mf\u001b[39;49m\u001b[38;5;124;43m'\u001b[39;49m\u001b[38;5;124;43mgame_frame/game_frame_participant_\u001b[39;49m\u001b[38;5;132;43;01m{\u001b[39;49;00m\u001b[43mparticipant\u001b[49m\u001b[38;5;132;43;01m}\u001b[39;49;00m\u001b[38;5;124;43m/game_\u001b[39;49m\u001b[38;5;132;43;01m{\u001b[39;49;00m\u001b[43mcurrent_frame\u001b[49m\u001b[38;5;132;43;01m}\u001b[39;49;00m\u001b[38;5;124;43m.png\u001b[39;49m\u001b[38;5;124;43m'\u001b[39;49m\u001b[43m)\u001b[49m\n\u001b[1;32m      5\u001b[0m     d100 \u001b[38;5;241m=\u001b[39m frame[\u001b[38;5;241m24\u001b[39m:\u001b[38;5;241m31\u001b[39m,\u001b[38;5;241m208\u001b[39m:\u001b[38;5;241m215\u001b[39m]\n\u001b[1;32m      6\u001b[0m     d10 \u001b[38;5;241m=\u001b[39m frame[\u001b[38;5;241m24\u001b[39m:\u001b[38;5;241m31\u001b[39m,\u001b[38;5;241m216\u001b[39m:\u001b[38;5;241m223\u001b[39m]\n",
      "\u001b[0;31mKeyboardInterrupt\u001b[0m: "
     ]
    }
   ],
   "source": [
    "status_down_frame = []\n",
    "status_down_time = []\n",
    "for frame_number in range(1,count_files(f'game_frame/game_frame_participant_{participant}/')):\n",
    "# for frame_number in range(61277, 67301):\n",
    "    # print(counter)\n",
    "    # check.append(counting_time)\n",
    "    # count.append(counter)\n",
    "    flag, counting_time, counter = status_down_check(frame_number, counting_time, counter)\n",
    "    if flag:\n",
    "        if (counting_time in [400,300]) and time_frozen:\n",
    "            continue\n",
    "        elif (counting_time in [400,300]) and not time_frozen:\n",
    "            status_down_frame.append(frame_number)\n",
    "            status_down_time.append(counting_time)\n",
    "            print(f\"{frame_number} {counting_time} {time_frozen}\")\n",
    "            time_frozen = True\n",
    "            print(\"time frozen\")\n",
    "        else:\n",
    "            print(f\"{frame_number} {counting_time} {time_frozen}\")\n",
    "            print(\"time not frozen - status down\")\n",
    "            time_frozen = False\n"
   ]
  },
  {
   "cell_type": "code",
   "execution_count": 73,
   "metadata": {},
   "outputs": [],
   "source": [
    "df = pandas.DataFrame(columns=['frame', 'time'])\n",
    "\n",
    "df['frame'] = status_down_frame\n",
    "df['time'] = status_down_time\n",
    "df.to_csv(f'./participant_{participant}_status_down.csv')"
   ]
  },
  {
   "cell_type": "code",
   "execution_count": null,
   "metadata": {},
   "outputs": [],
   "source": [
    "print(count)"
   ]
  },
  {
   "cell_type": "code",
   "execution_count": null,
   "metadata": {},
   "outputs": [],
   "source": [
    "print(check)"
   ]
  },
  {
   "cell_type": "code",
   "execution_count": null,
   "metadata": {
    "colab": {
     "base_uri": "https://localhost:8080/",
     "height": 246
    },
    "id": "Fu3hn6sQE73Y",
    "outputId": "5746a1ed-0e22-4900-d11f-f58b98051b29"
   },
   "outputs": [],
   "source": [
    "# load the two input images\n",
    "imageA = cv2.imread(\"./game_frame/game_frame_participant_0/game_4400.png\")\n",
    "imageB = cv2.imread(\"./game_frame/game_frame_participant_0/game_4401.png\")\n",
    "imageA_stage = imageA[23:32,151:177]\n",
    "imageA_point = imageA[23:32,39:71]\n",
    "imageB_stage = imageB[23:32,151:177]"
   ]
  },
  {
   "cell_type": "code",
   "execution_count": null,
   "metadata": {
    "colab": {
     "base_uri": "https://localhost:8080/",
     "height": 311
    },
    "id": "t6PR9qAjHUs9",
    "outputId": "3c398589-bb41-4a82-ae93-16263e6026c0"
   },
   "outputs": [],
   "source": [
    "# convert the images to grayscale\n",
    "grayA = cv2.cvtColor(imageA, cv2.COLOR_BGR2GRAY)\n",
    "grayB = cv2.cvtColor(imageB, cv2.COLOR_BGR2GRAY)\n",
    "\n",
    "plt.imshow(imageA_stage, cmap='gray')\n",
    "plt.show()\n",
    "plt.imshow(imageB_stage, cmap='gray')\n",
    "plt.show()"
   ]
  },
  {
   "cell_type": "code",
   "execution_count": null,
   "metadata": {
    "colab": {
     "base_uri": "https://localhost:8080/",
     "height": 531
    },
    "id": "01JYzV6oQRyk",
    "outputId": "8b46bd64-7931-4a89-f9bc-7f9ea0b92955"
   },
   "outputs": [],
   "source": [
    "stage_display_1 = imageA[23:32,151:160]\n",
    "stage_display_2 = imageA[23:32,167:176]\n",
    "plt.imshow(stage_display_A1, cmap='gray')\n",
    "plt.show()\n",
    "plt.imshow(stage_display_A2, cmap='gray')\n",
    "plt.show()\n",
    "stage_display_A1_bw = cv2.cvtColor(stage_display_A1, cv2.COLOR_BGR2GRAY)\n",
    "plt.imshow(stage_display_A1_bw, cmap='gray')\n",
    "plt.show()"
   ]
  },
  {
   "cell_type": "code",
   "execution_count": null,
   "metadata": {
    "id": "bty3CTDV2sUQ"
   },
   "outputs": [],
   "source": [
    "a = numpy.interp(stage_display_A1_bw, (stage_display_A1_bw.min(), stage_display_A1_bw.max()), (0, +1))"
   ]
  },
  {
   "cell_type": "code",
   "execution_count": null,
   "metadata": {
    "colab": {
     "base_uri": "https://localhost:8080/",
     "height": 265
    },
    "id": "OaOE2IYW3IJK",
    "outputId": "e6f6a116-02a1-402c-f6b4-40c608a9c285"
   },
   "outputs": [],
   "source": [
    "plt.imshow(a, cmap='gray')\n",
    "plt.show()"
   ]
  },
  {
   "cell_type": "code",
   "execution_count": null,
   "metadata": {
    "colab": {
     "base_uri": "https://localhost:8080/",
     "height": 160
    },
    "id": "BX2aBQamQ9le",
    "outputId": "09081564-7ec7-4946-9a6f-dcc102a7b2fe"
   },
   "outputs": [],
   "source": [
    "point_display_A = grayA[23:32,39:71]\n",
    "plt.imshow(point_display_A, cmap='gray')\n",
    "plt.show()\n",
    "point_display_A.shape"
   ]
  },
  {
   "cell_type": "code",
   "execution_count": null,
   "metadata": {
    "id": "BMdvlcObfBG1"
   },
   "outputs": [],
   "source": [
    "from PIL import Image, ImageOps\n",
    "import numpy\n",
    "\n",
    "# open image\n",
    "img = Image.fromarray(stage_display_A1)\n",
    "\n",
    "# border color\n",
    "color = \"black\"\n",
    "\n",
    "# top, right, bottom, left\n",
    "#border = (3, 12, 3, 11)\n",
    "border = (0, 12, 0, 11)\n",
    "\n",
    "new_img = ImageOps.expand(img, border=border, fill=color)\n",
    "\n",
    "# save new image\n",
    "new_img.save(\"test_image_result.jpg\")\n",
    "\n",
    "# show new bordered image in preview\n",
    "imageA_stage_reshape = numpy.array(new_img)"
   ]
  }
 ],
 "metadata": {
  "accelerator": "GPU",
  "colab": {
   "name": "Image.ipynb",
   "provenance": []
  },
  "interpreter": {
   "hash": "c5618a3774ac3f6aa60bc3b4a256ca9dbcb69481329a6a80fe12184c000e844a"
  },
  "kernelspec": {
   "display_name": "Python 3 (ipykernel)",
   "language": "python",
   "name": "python3"
  },
  "language_info": {
   "codemirror_mode": {
    "name": "ipython",
    "version": 3
   },
   "file_extension": ".py",
   "mimetype": "text/x-python",
   "name": "python",
   "nbconvert_exporter": "python",
   "pygments_lexer": "ipython3",
   "version": "3.8.10"
  }
 },
 "nbformat": 4,
 "nbformat_minor": 4
}
