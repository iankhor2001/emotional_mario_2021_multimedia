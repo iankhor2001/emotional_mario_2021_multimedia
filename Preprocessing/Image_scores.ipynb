{
 "cells": [
  {
   "cell_type": "markdown",
   "metadata": {
    "tags": []
   },
   "source": [
    "# Import Module & Define Function"
   ]
  },
  {
   "cell_type": "code",
   "execution_count": null,
   "metadata": {
    "id": "BjymVM-UEtCv"
   },
   "outputs": [],
   "source": [
    "# import the necessary packages\n",
    "import imutils\n",
    "import cv2\n",
    "from matplotlib import pyplot as plt\n",
    "import numpy\t````````````````````\t\n",
    "import os\n",
    "import pandas\n",
    "import pickle"
   ]
  },
  {
   "cell_type": "code",
   "execution_count": null,
   "metadata": {},
   "outputs": [],
   "source": [
    "def load_images_from_folder(folder):\n",
    "    images = []\n",
    "    for filename in os.listdir(folder):\n",
    "        img = cv2.imread(os.path.join(folder,filename))\n",
    "        if img is not None:\n",
    "            images.append(img)\n",
    "    return images"
   ]
  },
  {
   "cell_type": "code",
   "execution_count": null,
   "metadata": {},
   "outputs": [],
   "source": [
    "def count_files(path):\n",
    "    count = 0\n",
    "    for root_dir, cur_dir, files in os.walk(path):\n",
    "        count += len(files)\n",
    "    return count"
   ]
  },
  {
   "cell_type": "markdown",
   "metadata": {
    "jp-MarkdownHeadingCollapsed": true,
    "tags": []
   },
   "source": [
    "# Original (Testing)"
   ]
  },
  {
   "cell_type": "code",
   "execution_count": null,
   "metadata": {
    "scrolled": true,
    "tags": []
   },
   "outputs": [],
   "source": [
    "images = load_images_from_folder('game_frame/participant_0/participant_0_30000')"
   ]
  },
  {
   "cell_type": "code",
   "execution_count": null,
   "metadata": {},
   "outputs": [],
   "source": [
    "plt.imshow(images[0][24:31,32:55], cmap='gray')\n",
    "plt.show()"
   ]
  },
  {
   "cell_type": "code",
   "execution_count": null,
   "metadata": {
    "tags": []
   },
   "outputs": [],
   "source": [
    "plt.imshow(images[0][24:31,48:55], cmap='gray')\n",
    "plt.show()"
   ]
  },
  {
   "cell_type": "code",
   "execution_count": null,
   "metadata": {
    "tags": []
   },
   "outputs": [],
   "source": [
    "plt.imshow(images[0][24:31,40:47], cmap='gray')\n",
    "plt.show()"
   ]
  },
  {
   "cell_type": "code",
   "execution_count": null,
   "metadata": {
    "tags": []
   },
   "outputs": [],
   "source": [
    "plt.imshow(images[0][24:31,32:39], cmap='gray')\n",
    "plt.show()"
   ]
  },
  {
   "cell_type": "code",
   "execution_count": null,
   "metadata": {
    "tags": []
   },
   "outputs": [],
   "source": [
    "stage_display_1=[]\n",
    "stage_display_2=[]\n",
    "for i,image in enumerate(images):\n",
    "    stage_display_1.append(image[23:32,151:160])\n",
    "    stage_display_2.append(image[23:32,167:176])\n",
    "    #stage_display_1[i] = image[23:32,151:160]\n",
    "    #stage_display_2[i] = image[23:32,167:176]"
   ]
  },
  {
   "cell_type": "code",
   "execution_count": null,
   "metadata": {
    "tags": []
   },
   "outputs": [],
   "source": [
    "display_1_dictionary = []\n",
    "for image in stage_display_1:\n",
    "    image_bw = cv2.cvtColor(image, cv2.COLOR_BGR2GRAY)\n",
    "    image_bin = numpy.interp(image_bw, (image_bw.min(), image_bw.max()), (0, +1))\n",
    "    flag=False\n",
    "    for item in display_1_dictionary:\n",
    "        if numpy.array_equal(item,image_bin):\n",
    "            flag=True\n",
    "            break\n",
    "        else:\n",
    "            flag=False\n",
    "    if flag!=True:\n",
    "        display_1_dictionary.append(image_bin)\n",
    "    \n",
    "    print(len(display_1_dictionary))"
   ]
  },
  {
   "cell_type": "code",
   "execution_count": null,
   "metadata": {
    "tags": []
   },
   "outputs": [],
   "source": [
    "display_2_dictionary = []\n",
    "for image in stage_display_2:\n",
    "    image_bw = cv2.cvtColor(image, cv2.COLOR_BGR2GRAY)\n",
    "    image_bin = numpy.interp(image_bw, (image_bw.min(), image_bw.max()), (0, +1))\n",
    "    flag=False\n",
    "    for item in display_2_dictionary:\n",
    "        if numpy.array_equal(item,image_bin):\n",
    "            flag=True\n",
    "            break\n",
    "        else:\n",
    "            #plt.imshow(numpy.subtract(item,image_bin))\n",
    "            #plt.show()\n",
    "            flag=False\n",
    "    if flag!=True:\n",
    "        display_2_dictionary.append(image_bin)\n",
    "    \n",
    "    print(len(display_2_dictionary))"
   ]
  },
  {
   "cell_type": "code",
   "execution_count": null,
   "metadata": {
    "tags": []
   },
   "outputs": [],
   "source": [
    "for image in display_1_dictionary:\n",
    "    flag=False\n",
    "    for item in display_2_dictionary:\n",
    "        if numpy.array_equal(item,image):\n",
    "            flag=True\n",
    "            break\n",
    "        else:\n",
    "            #plt.imshow(numpy.subtract(item,image_bin))\n",
    "            #plt.show()\n",
    "            flag=False\n",
    "    print(flag)"
   ]
  },
  {
   "cell_type": "code",
   "execution_count": null,
   "metadata": {
    "tags": []
   },
   "outputs": [],
   "source": [
    "for image in display_2_dictionary:\n",
    "    plt.imshow(image, cmap='gray')\n",
    "    print(image)\n",
    "    plt.show()"
   ]
  },
  {
   "cell_type": "markdown",
   "metadata": {
    "jp-MarkdownHeadingCollapsed": true,
    "tags": []
   },
   "source": [
    "# All image (Finding dictionary)"
   ]
  },
  {
   "cell_type": "code",
   "execution_count": null,
   "metadata": {
    "scrolled": true,
    "tags": []
   },
   "outputs": [],
   "source": [
    "score_display_lib=[]"
   ]
  },
  {
   "cell_type": "code",
   "execution_count": null,
   "metadata": {
    "scrolled": true,
    "tags": []
   },
   "outputs": [],
   "source": [
    "print(\"going\")\n",
    "image_lib = load_images_from_folder('game_frame/participant_0/participant_90001_end')\n",
    "print(\"imported\")"
   ]
  },
  {
   "cell_type": "code",
   "execution_count": null,
   "metadata": {
    "scrolled": true,
    "tags": []
   },
   "outputs": [],
   "source": [
    "for i,image in enumerate(image_lib):\n",
    "    d1 = image[24:31,48:55]\n",
    "    d10 = image[24:31,40:47]\n",
    "    d100 = image[24:31,32:39]\n",
    "    image_bw1 = cv2.cvtColor(d1, cv2.COLOR_BGR2GRAY)\n",
    "    image_bw10 = cv2.cvtColor(d10, cv2.COLOR_BGR2GRAY)\n",
    "    image_bw100 = cv2.cvtColor(d100, cv2.COLOR_BGR2GRAY)\n",
    "    image_bin1 = numpy.interp(image_bw1, (image_bw1.min(), image_bw1.max()), (0, +1))\n",
    "    image_bin10 = numpy.interp(image_bw10, (image_bw10.min(), image_bw10.max()), (0, +1))\n",
    "    image_bin100 = numpy.interp(image_bw100, (image_bw100.min(), image_bw100.max()), (0, +1))\n",
    "    for image in [image_bin1, image_bin10, image_bin100]:\n",
    "        flag=False\n",
    "        for item in score_display_lib:\n",
    "            if numpy.array_equal(item,image):\n",
    "                flag=True\n",
    "                break\n",
    "            else:\n",
    "                flag=False\n",
    "        if flag!=True:\n",
    "            score_display_lib.append(image)\n",
    "            print(f\"new {i}\")\n",
    "print(\"end\")"
   ]
  },
  {
   "cell_type": "code",
   "execution_count": null,
   "metadata": {},
   "outputs": [],
   "source": [
    "len(score_display_lib)"
   ]
  },
  {
   "cell_type": "code",
   "execution_count": null,
   "metadata": {
    "tags": []
   },
   "outputs": [],
   "source": [
    "for i,image in enumerate(score_display_lib[136:150]):\n",
    "    plt.imshow(image,cmap=\"Greys\")\n",
    "    plt.show()\n",
    "    print(i+136)"
   ]
  },
  {
   "cell_type": "code",
   "execution_count": null,
   "metadata": {
    "tags": []
   },
   "outputs": [],
   "source": [
    "numpy.save(\"./data_dump/score_display_lib.npy\",score_display_lib)"
   ]
  },
  {
   "cell_type": "code",
   "execution_count": null,
   "metadata": {
    "tags": []
   },
   "outputs": [],
   "source": [
    "print(score_display_lib[0])"
   ]
  },
  {
   "cell_type": "code",
   "execution_count": null,
   "metadata": {
    "tags": []
   },
   "outputs": [],
   "source": [
    "file_score_display = open(\"./data_dump/score_display_lib.npy\", \"wb\")\n",
    "pickle.dump(score_display_lib, file_score_display)\n",
    "file_stage_display_1.close()"
   ]
  },
  {
   "cell_type": "code",
   "execution_count": null,
   "metadata": {
    "tags": []
   },
   "outputs": [],
   "source": [
    "del image_lib"
   ]
  },
  {
   "cell_type": "markdown",
   "metadata": {
    "tags": []
   },
   "source": [
    "# dictionary"
   ]
  },
  {
   "cell_type": "code",
   "execution_count": null,
   "metadata": {},
   "outputs": [],
   "source": [
    "score_display_dictionary = {\n",
    "    0: [],\n",
    "    1: [],\n",
    "    2: [],\n",
    "    3: [],\n",
    "    4: [],\n",
    "    5: [],\n",
    "    6: [],\n",
    "    7: [],\n",
    "    8: [],\n",
    "    9: []\n",
    "}"
   ]
  },
  {
   "cell_type": "code",
   "execution_count": null,
   "metadata": {},
   "outputs": [],
   "source": [
    "for i in [8]:\n",
    "    score_display_dictionary[9].append(score_display_lib[i])"
   ]
  },
  {
   "cell_type": "code",
   "execution_count": null,
   "metadata": {},
   "outputs": [],
   "source": [
    "len(score_display_dictionary[9])"
   ]
  },
  {
   "cell_type": "code",
   "execution_count": null,
   "metadata": {},
   "outputs": [],
   "source": [
    "plt.imshow(score_display_dictionary[9][0], cmap=\"Greys\")\n",
    "plt.show()"
   ]
  },
  {
   "cell_type": "markdown",
   "metadata": {
    "tags": []
   },
   "source": [
    "# Saving and Loading Dictionary"
   ]
  },
  {
   "cell_type": "code",
   "execution_count": null,
   "metadata": {},
   "outputs": [],
   "source": [
    "file_score_display = open(\"./data_dump/score_display_dictionary.npy\", \"wb\")\n",
    "pickle.dump(score_display_dictionary, file_score_display)\n",
    "file_score_display.close()"
   ]
  },
  {
   "cell_type": "code",
   "execution_count": null,
   "metadata": {},
   "outputs": [],
   "source": [
    "file_stage_display_1 = open(\"./data_dump/score_display_dictionary.npy\", \"rb\")\n",
    "score_display_dictionary = pickle.load(file_stage_display_1)\n",
    "print(score_display_dictionary[1][0])\n",
    "file_stage_display_1.close()"
   ]
  },
  {
   "cell_type": "markdown",
   "metadata": {
    "tags": []
   },
   "source": [
    "# Comparison & Prediction"
   ]
  },
  {
   "cell_type": "code",
   "execution_count": null,
   "metadata": {
    "tags": []
   },
   "outputs": [],
   "source": [
    "img1 = cv2.imread(f'game_frame/game_frame_participant_1/game_1.png')\n",
    "#img1 = cv2.imread(f'game_frame/game_frame_participant_1/game_0.png')\n",
    "img2 = cv2.imread(f'game_frame/game_frame_participant_1/game_63226.png')\n",
    "plt.imshow(img1)\n",
    "plt.show()\n",
    "plt.imshow(img2)\n",
    "plt.show()"
   ]
  },
  {
   "cell_type": "code",
   "execution_count": null,
   "metadata": {},
   "outputs": [],
   "source": [
    "participant = 0\n",
    "current_frame = 1\n",
    "current_score = 0"
   ]
  },
  {
   "cell_type": "code",
   "execution_count": null,
   "metadata": {},
   "outputs": [],
   "source": [
    "# function to return key for any value\n",
    "def get_key_dict(val):\n",
    "    val_bw = cv2.cvtColor(val, cv2.COLOR_BGR2GRAY)\n",
    "    val_bin = numpy.interp(val_bw, (val_bw.min(), val_bw.max()), (0, +1))\n",
    "    for key, dict_list in score_display_dictionary.items():\n",
    "        for dict_val in dict_list:\n",
    "            if numpy.array_equal(val_bin,dict_val):\n",
    "                return True, key\n",
    "    return False, 0"
   ]
  },
  {
   "cell_type": "code",
   "execution_count": null,
   "metadata": {},
   "outputs": [],
   "source": [
    "def new_score_check(current_frame, last_score):\n",
    "    frame = cv2.imread(f'game_frame/participant_{participant}/participant_0_30000/game_{current_frame}.png')\n",
    "    #frame = cv2.imread(f'game_frame/game_frame_participant_{participant}/game_{current_frame}.png')\n",
    "    \n",
    "    d1 = frame[24:31,48:55]\n",
    "    d10 = frame[24:31,40:47]\n",
    "    d100 = frame[24:31,32:39]\n",
    "    \n",
    "    num1_valid, score_num1 = get_key_dict(d1)\n",
    "    if not num1_valid:\n",
    "        return False, last_score\n",
    "    num10_valid, score_num10 = get_key_dict(d10)\n",
    "    if not num10_valid:\n",
    "        return False, last_score\n",
    "    num100_valid, score_num100 = get_key_dict(d100)\n",
    "    if not num100_valid:\n",
    "        return False, last_score\n",
    "\n",
    "    ## convert new_score and compare with previous score\n",
    "    new_score = int(f\"{score_num100}{score_num10}{score_num1}\")\n",
    "    if new_score == last_score:\n",
    "        return False, last_score\n",
    "    else: \n",
    "        return True, new_score\n",
    "    "
   ]
  },
  {
   "cell_type": "code",
   "execution_count": null,
   "metadata": {},
   "outputs": [],
   "source": [
    "new_score_check(1, current_score)"
   ]
  },
  {
   "cell_type": "code",
   "execution_count": null,
   "metadata": {
    "jupyter": {
     "source_hidden": true
    },
    "scrolled": true,
    "tags": []
   },
   "outputs": [],
   "source": [
    "new_score_frame = []\n",
    "current_score = 0\n",
    "#for frame_number in range(1,count_files(f'game_frame/game_frame_participant_{participant}/')):\n",
    "for frame_number in range(1,count_files(f'game_frame/participant_{participant}/participant_0_30000')):\n",
    "    flag, new_score = new_score_check(frame_number, current_score)\n",
    "    if flag:\n",
    "        current_score = new_score\n",
    "        new_score_frame.append((frame_number,new_score))\n",
    "        print(f\"{frame_number} {new_score}\")"
   ]
  },
  {
   "cell_type": "code",
   "execution_count": 30,
   "metadata": {
    "tags": []
   },
   "outputs": [
    {
     "name": "stdout",
     "output_type": "stream",
     "text": [
      "329 2\n",
      "#### status up\n",
      "434 12\n",
      "682 13\n",
      "1007 14\n",
      "####### 0 event\n",
      "1916 0\n",
      "1993 2\n",
      "####### 0 event\n",
      "2004 0\n",
      "#### status up\n",
      "2375 10\n",
      "2623 11\n",
      "2779 12\n",
      "2995 13\n",
      "3007 18\n",
      "3012 23\n",
      "3026 31\n",
      "#### status up\n",
      "3036 41\n",
      "3299 42\n",
      "3311 44\n",
      "####### 0 event\n",
      "4401 0\n",
      "5012 4\n",
      "5108 5\n",
      "5277 7\n",
      "#### status up\n",
      "5508 17\n",
      "5712 18\n",
      "5783 20\n",
      "5867 22\n",
      "5970 24\n",
      "5980 26\n",
      "6188 28\n",
      "6194 30\n",
      "####### 0 event\n",
      "6454 0\n",
      "6712 2\n",
      "6718 4\n",
      "6726 6\n",
      "####### 0 event\n",
      "7736 0\n",
      "7995 2\n",
      "7999 4\n",
      "8924 8\n",
      "8929 10\n",
      "####### 0 event\n",
      "9979 0\n",
      "11644 2\n",
      "####### 0 event\n",
      "12627 0\n",
      "12793 2\n",
      "14174 4\n",
      "####### 0 event\n",
      "14185 0\n",
      "14352 4\n",
      "14366 5\n",
      "14390 9\n",
      "####### 0 event\n",
      "15476 0\n",
      "16037 1\n",
      "16531 2\n",
      "16542 4\n",
      "17142 6\n",
      "####### 0 event\n",
      "17155 0\n",
      "19180 4\n",
      "19198 5\n",
      "19210 10\n",
      "19228 15\n",
      "####### 0 event\n",
      "19714 0\n",
      "25598 1\n",
      "####### 0 event\n",
      "25700 0\n",
      "27459 1\n",
      "####### 0 event\n",
      "28089 0\n",
      "28677 2\n",
      "28682 4\n",
      "28688 6\n",
      "28759 8\n",
      "28775 10\n",
      "29134 14\n",
      "29140 16\n",
      "29147 18\n",
      "29172 20\n",
      "29184 22\n",
      "####### 0 event\n",
      "29215 0\n",
      "29777 2\n",
      "29783 4\n",
      "29789 6\n",
      "29854 8\n",
      "[(434, 12, '2+10'), (1916, 0, '0'), (2004, 0, '0'), (2375, 10, '0+10'), (3036, 41, '31+10'), (4401, 0, '0'), (5508, 17, '7+10'), (6454, 0, '0'), (7736, 0, '0'), (9979, 0, '0'), (12627, 0, '0'), (14185, 0, '0'), (15476, 0, '0'), (17155, 0, '0'), (19714, 0, '0'), (25700, 0, '0'), (28089, 0, '0'), (29215, 0, '0')]\n"
     ]
    }
   ],
   "source": [
    "new_score_frame = []\n",
    "current_score = 0\n",
    "\n",
    "#for frame_number in range(1,count_files(f'game_frame/game_frame_participant_{participant}/')):\n",
    "for frame_number in range(1,count_files(f'game_frame/participant_{participant}/participant_0_30000')):\n",
    "    flag, new_score = new_score_check(frame_number, current_score)\n",
    "    \n",
    "    if flag:\n",
    "        if new_score == 0:\n",
    "            new_score_frame.append((frame_number,new_score,\"0\"))\n",
    "            print(\"####### 0 event\")\n",
    "        elif ((new_score-current_score) == 10):\n",
    "            new_score_frame.append((frame_number,new_score,f\"{current_score}+10\"))            \n",
    "            print(\"#### status up\")\n",
    "        print(f\"{frame_number} {new_score}\")\n",
    "        current_score = new_score\n",
    "print(new_score_frame)"
   ]
  },
  {
   "cell_type": "code",
   "execution_count": null,
   "metadata": {},
   "outputs": [],
   "source": [
    "img = cv2.imread(f'game_frame/participant_0/participant_0_30000/game_22455.png')\n",
    "plt.imshow(img)\n",
    "plt.show()"
   ]
  }
 ],
 "metadata": {
  "accelerator": "GPU",
  "colab": {
   "name": "Image.ipynb",
   "provenance": []
  },
  "kernelspec": {
   "display_name": "Python 3 (ipykernel)",
   "language": "python",
   "name": "python3"
  },
  "language_info": {
   "codemirror_mode": {
    "name": "ipython",
    "version": 3
   },
   "file_extension": ".py",
   "mimetype": "text/x-python",
   "name": "python",
   "nbconvert_exporter": "python",
   "pygments_lexer": "ipython3",
   "version": "3.8.10"
  }
 },
 "nbformat": 4,
 "nbformat_minor": 4
}
